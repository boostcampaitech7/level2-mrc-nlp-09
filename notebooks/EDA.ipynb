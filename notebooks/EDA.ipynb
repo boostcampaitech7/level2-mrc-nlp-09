{
 "cells": [
  {
   "cell_type": "code",
   "execution_count": 212,
   "metadata": {},
   "outputs": [
    {
     "data": {
      "text/plain": [
       "((60613, 8), (4192, 7))"
      ]
     },
     "execution_count": 212,
     "metadata": {},
     "output_type": "execute_result"
    }
   ],
   "source": [
    "import json\n",
    "import pandas as pd\n",
    "from datasets import load_from_disk\n",
    "\n",
    "\n",
    "data = json.load(open('../data/raw/wikipedia_documents.json'))\n",
    "wiki = pd.DataFrame(data).T\n",
    "\n",
    "dataset = load_from_disk(\"../data/raw/train_dataset/\")\n",
    "train_df = pd.DataFrame(dataset['train'])\n",
    "valid_df = pd.DataFrame(dataset['validation'])\n",
    "\n",
    "mrc = pd.concat([train_df, valid_df])\n",
    "\n",
    "wiki.shape, mrc.shape"
   ]
  },
  {
   "cell_type": "code",
   "execution_count": 2,
   "metadata": {},
   "outputs": [
    {
     "data": {
      "text/html": [
       "<div>\n",
       "<style scoped>\n",
       "    .dataframe tbody tr th:only-of-type {\n",
       "        vertical-align: middle;\n",
       "    }\n",
       "\n",
       "    .dataframe tbody tr th {\n",
       "        vertical-align: top;\n",
       "    }\n",
       "\n",
       "    .dataframe thead th {\n",
       "        text-align: right;\n",
       "    }\n",
       "</style>\n",
       "<table border=\"1\" class=\"dataframe\">\n",
       "  <thead>\n",
       "    <tr style=\"text-align: right;\">\n",
       "      <th></th>\n",
       "      <th>question</th>\n",
       "      <th>id</th>\n",
       "    </tr>\n",
       "  </thead>\n",
       "  <tbody>\n",
       "    <tr>\n",
       "      <th>0</th>\n",
       "      <td>유령'은 어느 행성에서 지구로 왔는가?</td>\n",
       "      <td>mrc-1-000653</td>\n",
       "    </tr>\n",
       "    <tr>\n",
       "      <th>1</th>\n",
       "      <td>용병회사의 경기가 좋아진 것은 무엇이 끝난 이후부터인가?</td>\n",
       "      <td>mrc-1-001113</td>\n",
       "    </tr>\n",
       "    <tr>\n",
       "      <th>2</th>\n",
       "      <td>돌푸스에게 불특정 기간동안 하원이 잠시 쉬는 것을 건의 받았던 인물은?</td>\n",
       "      <td>mrc-0-002191</td>\n",
       "    </tr>\n",
       "    <tr>\n",
       "      <th>3</th>\n",
       "      <td>마오리언어와 영어, 뉴질랜드 수화를 공식 언어로 사용하는 나라는?</td>\n",
       "      <td>mrc-0-003951</td>\n",
       "    </tr>\n",
       "    <tr>\n",
       "      <th>4</th>\n",
       "      <td>디엔비엔푸 전투에서 보응우옌잡이 상대한 국가는?</td>\n",
       "      <td>mrc-1-001272</td>\n",
       "    </tr>\n",
       "    <tr>\n",
       "      <th>...</th>\n",
       "      <td>...</td>\n",
       "      <td>...</td>\n",
       "    </tr>\n",
       "    <tr>\n",
       "      <th>595</th>\n",
       "      <td>타입 2 가이아 메모리을 만든 집단은?</td>\n",
       "      <td>mrc-0-002989</td>\n",
       "    </tr>\n",
       "    <tr>\n",
       "      <th>596</th>\n",
       "      <td>장면이 정치보복에 반대하는 입장에서 처벌을 원치 않은 대상은?</td>\n",
       "      <td>mrc-0-001804</td>\n",
       "    </tr>\n",
       "    <tr>\n",
       "      <th>597</th>\n",
       "      <td>콜드게임 중 어떠한 계기로 인해 잠시 중단된 뒤, 익일에 게임이 진행되는 것은?</td>\n",
       "      <td>mrc-0-003411</td>\n",
       "    </tr>\n",
       "    <tr>\n",
       "      <th>598</th>\n",
       "      <td>제2캐나다기갑여단이 상륙한 곳은?</td>\n",
       "      <td>mrc-0-003436</td>\n",
       "    </tr>\n",
       "    <tr>\n",
       "      <th>599</th>\n",
       "      <td>구립운석을 이루는 물질 중 널리 알려진 것은?</td>\n",
       "      <td>mrc-0-002605</td>\n",
       "    </tr>\n",
       "  </tbody>\n",
       "</table>\n",
       "<p>600 rows × 2 columns</p>\n",
       "</div>"
      ],
      "text/plain": [
       "                                         question            id\n",
       "0                           유령'은 어느 행성에서 지구로 왔는가?  mrc-1-000653\n",
       "1                 용병회사의 경기가 좋아진 것은 무엇이 끝난 이후부터인가?  mrc-1-001113\n",
       "2         돌푸스에게 불특정 기간동안 하원이 잠시 쉬는 것을 건의 받았던 인물은?  mrc-0-002191\n",
       "3            마오리언어와 영어, 뉴질랜드 수화를 공식 언어로 사용하는 나라는?  mrc-0-003951\n",
       "4                      디엔비엔푸 전투에서 보응우옌잡이 상대한 국가는?  mrc-1-001272\n",
       "..                                            ...           ...\n",
       "595                         타입 2 가이아 메모리을 만든 집단은?  mrc-0-002989\n",
       "596            장면이 정치보복에 반대하는 입장에서 처벌을 원치 않은 대상은?  mrc-0-001804\n",
       "597  콜드게임 중 어떠한 계기로 인해 잠시 중단된 뒤, 익일에 게임이 진행되는 것은?  mrc-0-003411\n",
       "598                            제2캐나다기갑여단이 상륙한 곳은?  mrc-0-003436\n",
       "599                     구립운석을 이루는 물질 중 널리 알려진 것은?  mrc-0-002605\n",
       "\n",
       "[600 rows x 2 columns]"
      ]
     },
     "execution_count": 2,
     "metadata": {},
     "output_type": "execute_result"
    }
   ],
   "source": [
    "dataset = load_from_disk(\"../data/raw/test_dataset/\")\n",
    "dataset\n",
    "# to pd\n",
    "test_df = pd.DataFrame(dataset['validation'])\n",
    "test_df"
   ]
  },
  {
   "cell_type": "code",
   "execution_count": 3,
   "metadata": {},
   "outputs": [
    {
     "data": {
      "text/html": [
       "<div>\n",
       "<style scoped>\n",
       "    .dataframe tbody tr th:only-of-type {\n",
       "        vertical-align: middle;\n",
       "    }\n",
       "\n",
       "    .dataframe tbody tr th {\n",
       "        vertical-align: top;\n",
       "    }\n",
       "\n",
       "    .dataframe thead th {\n",
       "        text-align: right;\n",
       "    }\n",
       "</style>\n",
       "<table border=\"1\" class=\"dataframe\">\n",
       "  <thead>\n",
       "    <tr style=\"text-align: right;\">\n",
       "      <th></th>\n",
       "      <th>title</th>\n",
       "      <th>context</th>\n",
       "      <th>question</th>\n",
       "      <th>id</th>\n",
       "      <th>answers</th>\n",
       "      <th>document_id</th>\n",
       "      <th>__index_level_0__</th>\n",
       "    </tr>\n",
       "  </thead>\n",
       "  <tbody>\n",
       "    <tr>\n",
       "      <th>0</th>\n",
       "      <td>미국 상원</td>\n",
       "      <td>미국 상의원 또는 미국 상원(United States Senate)은 양원제인 미국...</td>\n",
       "      <td>대통령을 포함한 미국의 행정부 견제권을 갖는 국가 기관은?</td>\n",
       "      <td>mrc-1-000067</td>\n",
       "      <td>{'answer_start': [235], 'text': ['하원']}</td>\n",
       "      <td>18293</td>\n",
       "      <td>42</td>\n",
       "    </tr>\n",
       "  </tbody>\n",
       "</table>\n",
       "</div>"
      ],
      "text/plain": [
       "   title                                            context  \\\n",
       "0  미국 상원  미국 상의원 또는 미국 상원(United States Senate)은 양원제인 미국...   \n",
       "\n",
       "                           question            id  \\\n",
       "0  대통령을 포함한 미국의 행정부 견제권을 갖는 국가 기관은?  mrc-1-000067   \n",
       "\n",
       "                                   answers  document_id  __index_level_0__  \n",
       "0  {'answer_start': [235], 'text': ['하원']}        18293                 42  "
      ]
     },
     "execution_count": 3,
     "metadata": {},
     "output_type": "execute_result"
    }
   ],
   "source": [
    "mrc.head(1)"
   ]
  },
  {
   "cell_type": "code",
   "execution_count": 4,
   "metadata": {},
   "outputs": [
    {
     "data": {
      "text/html": [
       "<div>\n",
       "<style scoped>\n",
       "    .dataframe tbody tr th:only-of-type {\n",
       "        vertical-align: middle;\n",
       "    }\n",
       "\n",
       "    .dataframe tbody tr th {\n",
       "        vertical-align: top;\n",
       "    }\n",
       "\n",
       "    .dataframe thead th {\n",
       "        text-align: right;\n",
       "    }\n",
       "</style>\n",
       "<table border=\"1\" class=\"dataframe\">\n",
       "  <thead>\n",
       "    <tr style=\"text-align: right;\">\n",
       "      <th></th>\n",
       "      <th>title</th>\n",
       "      <th>context</th>\n",
       "      <th>question</th>\n",
       "      <th>id</th>\n",
       "      <th>answers</th>\n",
       "      <th>document_id</th>\n",
       "      <th>__index_level_0__</th>\n",
       "      <th>answer_location_ratio</th>\n",
       "    </tr>\n",
       "  </thead>\n",
       "  <tbody>\n",
       "    <tr>\n",
       "      <th>0</th>\n",
       "      <td>미국 상원</td>\n",
       "      <td>미국 상의원 또는 미국 상원(United States Senate)은 양원제인 미국...</td>\n",
       "      <td>대통령을 포함한 미국의 행정부 견제권을 갖는 국가 기관은?</td>\n",
       "      <td>mrc-1-000067</td>\n",
       "      <td>{'answer_start': [235], 'text': ['하원']}</td>\n",
       "      <td>18293</td>\n",
       "      <td>42</td>\n",
       "      <td>27.262181</td>\n",
       "    </tr>\n",
       "    <tr>\n",
       "      <th>1</th>\n",
       "      <td>인사조직관리</td>\n",
       "      <td>'근대적 경영학' 또는 '고전적 경영학'에서 현대적 경영학으로 전환되는 시기는 19...</td>\n",
       "      <td>현대적 인사조직관리의 시발점이 된 책은?</td>\n",
       "      <td>mrc-0-004397</td>\n",
       "      <td>{'answer_start': [212], 'text': ['《경영의 실제》']}</td>\n",
       "      <td>51638</td>\n",
       "      <td>2873</td>\n",
       "      <td>34.138486</td>\n",
       "    </tr>\n",
       "    <tr>\n",
       "      <th>2</th>\n",
       "      <td>강희제</td>\n",
       "      <td>강희제는 강화된 황권으로 거의 황제 중심의 독단적으로 나라를 이끌어 갔기에 자칫 전...</td>\n",
       "      <td>강희제가 1717년에 쓴 글은 누구를 위해 쓰여졌는가?</td>\n",
       "      <td>mrc-1-000362</td>\n",
       "      <td>{'answer_start': [510], 'text': ['백성']}</td>\n",
       "      <td>5028</td>\n",
       "      <td>230</td>\n",
       "      <td>60.000000</td>\n",
       "    </tr>\n",
       "    <tr>\n",
       "      <th>3</th>\n",
       "      <td>금동삼존불감</td>\n",
       "      <td>불상을 모시기 위해 나무나 돌, 쇠 등을 깎아 일반적인 건축물보다 작은 규모로 만든...</td>\n",
       "      <td>11~12세기에 제작된 본존불은 보통 어떤 나라의 특징이 전파되었나요?</td>\n",
       "      <td>mrc-0-001510</td>\n",
       "      <td>{'answer_start': [625], 'text': ['중국']}</td>\n",
       "      <td>34146</td>\n",
       "      <td>992</td>\n",
       "      <td>85.969739</td>\n",
       "    </tr>\n",
       "    <tr>\n",
       "      <th>4</th>\n",
       "      <td>계사명 사리구</td>\n",
       "      <td>동아대학교박물관에서 소장하고 있는 계사명 사리구는 총 4개의 용기로 구성된 조선후기...</td>\n",
       "      <td>명문이 적힌 유물을 구성하는 그릇의 총 개수는?</td>\n",
       "      <td>mrc-0-000823</td>\n",
       "      <td>{'answer_start': [30], 'text': ['4개']}</td>\n",
       "      <td>47334</td>\n",
       "      <td>548</td>\n",
       "      <td>4.926108</td>\n",
       "    </tr>\n",
       "    <tr>\n",
       "      <th>...</th>\n",
       "      <td>...</td>\n",
       "      <td>...</td>\n",
       "      <td>...</td>\n",
       "      <td>...</td>\n",
       "      <td>...</td>\n",
       "      <td>...</td>\n",
       "      <td>...</td>\n",
       "      <td>...</td>\n",
       "    </tr>\n",
       "    <tr>\n",
       "      <th>235</th>\n",
       "      <td>전단 (제나라)</td>\n",
       "      <td>연나라 군대의 사령관이 악의에서 기겁으로 교체되자, 전단은 스스로 신령의 계시를 받...</td>\n",
       "      <td>전단이 연나라와의 전쟁에서 승리했을 당시 제나라의 왕은 누구인가?</td>\n",
       "      <td>mrc-0-000484</td>\n",
       "      <td>{'answer_start': [1084], 'text': ['제 양왕']}</td>\n",
       "      <td>53265</td>\n",
       "      <td>329</td>\n",
       "      <td>86.443381</td>\n",
       "    </tr>\n",
       "    <tr>\n",
       "      <th>236</th>\n",
       "      <td>티칼</td>\n",
       "      <td>현재 우리가 볼 수 있는 티칼의 모습은 펜실베이니아 대학교와 과테말라 정부의 협조 ...</td>\n",
       "      <td>공놀이 경기장 중 일부는 어디에 위치하고 있나?</td>\n",
       "      <td>mrc-0-002095</td>\n",
       "      <td>{'answer_start': [343], 'text': [''일곱 개의 신전 광장...</td>\n",
       "      <td>12190</td>\n",
       "      <td>1378</td>\n",
       "      <td>38.238573</td>\n",
       "    </tr>\n",
       "    <tr>\n",
       "      <th>237</th>\n",
       "      <td>윤치호</td>\n",
       "      <td>1940년 5월 1일 오전 창씨개명에 비협조적이라는 이유로 조선총독부 경무국에서 소...</td>\n",
       "      <td>창씨개명령의 시행일을 미루는 것을 수락한 인물은?</td>\n",
       "      <td>mrc-0-003083</td>\n",
       "      <td>{'answer_start': [247], 'text': ['미나미 지로']}</td>\n",
       "      <td>5326</td>\n",
       "      <td>2031</td>\n",
       "      <td>18.797565</td>\n",
       "    </tr>\n",
       "    <tr>\n",
       "      <th>238</th>\n",
       "      <td>신잉카국</td>\n",
       "      <td>빌카밤바 지역은 파차쿠티 황제 때 부터 잉카 제국에 속해있던 지역이었다. 스페인 군...</td>\n",
       "      <td>망코 잉카가 쿠스코를 되찾기 위해 마련한 군사는 총 몇 명인가?</td>\n",
       "      <td>mrc-0-002978</td>\n",
       "      <td>{'answer_start': [563], 'text': ['200,000명']}</td>\n",
       "      <td>48575</td>\n",
       "      <td>1963</td>\n",
       "      <td>56.412826</td>\n",
       "    </tr>\n",
       "    <tr>\n",
       "      <th>239</th>\n",
       "      <td>레닌주의</td>\n",
       "      <td>사회주의 혁명은 오로지 선진노동자계급에 기초한 계급투쟁으로서 이루어질 수 있다고 주...</td>\n",
       "      <td>마르크스주의자들의 사상은?</td>\n",
       "      <td>mrc-1-000622</td>\n",
       "      <td>{'answer_start': [811], 'text': ['공산주의']}</td>\n",
       "      <td>5761</td>\n",
       "      <td>399</td>\n",
       "      <td>83.867632</td>\n",
       "    </tr>\n",
       "  </tbody>\n",
       "</table>\n",
       "<p>4192 rows × 8 columns</p>\n",
       "</div>"
      ],
      "text/plain": [
       "        title                                            context  \\\n",
       "0       미국 상원  미국 상의원 또는 미국 상원(United States Senate)은 양원제인 미국...   \n",
       "1      인사조직관리  '근대적 경영학' 또는 '고전적 경영학'에서 현대적 경영학으로 전환되는 시기는 19...   \n",
       "2         강희제  강희제는 강화된 황권으로 거의 황제 중심의 독단적으로 나라를 이끌어 갔기에 자칫 전...   \n",
       "3      금동삼존불감  불상을 모시기 위해 나무나 돌, 쇠 등을 깎아 일반적인 건축물보다 작은 규모로 만든...   \n",
       "4     계사명 사리구  동아대학교박물관에서 소장하고 있는 계사명 사리구는 총 4개의 용기로 구성된 조선후기...   \n",
       "..        ...                                                ...   \n",
       "235  전단 (제나라)  연나라 군대의 사령관이 악의에서 기겁으로 교체되자, 전단은 스스로 신령의 계시를 받...   \n",
       "236        티칼  현재 우리가 볼 수 있는 티칼의 모습은 펜실베이니아 대학교와 과테말라 정부의 협조 ...   \n",
       "237       윤치호  1940년 5월 1일 오전 창씨개명에 비협조적이라는 이유로 조선총독부 경무국에서 소...   \n",
       "238      신잉카국  빌카밤바 지역은 파차쿠티 황제 때 부터 잉카 제국에 속해있던 지역이었다. 스페인 군...   \n",
       "239      레닌주의  사회주의 혁명은 오로지 선진노동자계급에 기초한 계급투쟁으로서 이루어질 수 있다고 주...   \n",
       "\n",
       "                                    question            id  \\\n",
       "0           대통령을 포함한 미국의 행정부 견제권을 갖는 국가 기관은?  mrc-1-000067   \n",
       "1                     현대적 인사조직관리의 시발점이 된 책은?  mrc-0-004397   \n",
       "2             강희제가 1717년에 쓴 글은 누구를 위해 쓰여졌는가?  mrc-1-000362   \n",
       "3    11~12세기에 제작된 본존불은 보통 어떤 나라의 특징이 전파되었나요?  mrc-0-001510   \n",
       "4                 명문이 적힌 유물을 구성하는 그릇의 총 개수는?  mrc-0-000823   \n",
       "..                                       ...           ...   \n",
       "235     전단이 연나라와의 전쟁에서 승리했을 당시 제나라의 왕은 누구인가?  mrc-0-000484   \n",
       "236               공놀이 경기장 중 일부는 어디에 위치하고 있나?  mrc-0-002095   \n",
       "237              창씨개명령의 시행일을 미루는 것을 수락한 인물은?  mrc-0-003083   \n",
       "238      망코 잉카가 쿠스코를 되찾기 위해 마련한 군사는 총 몇 명인가?  mrc-0-002978   \n",
       "239                           마르크스주의자들의 사상은?  mrc-1-000622   \n",
       "\n",
       "                                               answers  document_id  \\\n",
       "0              {'answer_start': [235], 'text': ['하원']}        18293   \n",
       "1        {'answer_start': [212], 'text': ['《경영의 실제》']}        51638   \n",
       "2              {'answer_start': [510], 'text': ['백성']}         5028   \n",
       "3              {'answer_start': [625], 'text': ['중국']}        34146   \n",
       "4               {'answer_start': [30], 'text': ['4개']}        47334   \n",
       "..                                                 ...          ...   \n",
       "235         {'answer_start': [1084], 'text': ['제 양왕']}        53265   \n",
       "236  {'answer_start': [343], 'text': [''일곱 개의 신전 광장...        12190   \n",
       "237        {'answer_start': [247], 'text': ['미나미 지로']}         5326   \n",
       "238      {'answer_start': [563], 'text': ['200,000명']}        48575   \n",
       "239          {'answer_start': [811], 'text': ['공산주의']}         5761   \n",
       "\n",
       "     __index_level_0__  answer_location_ratio  \n",
       "0                   42              27.262181  \n",
       "1                 2873              34.138486  \n",
       "2                  230              60.000000  \n",
       "3                  992              85.969739  \n",
       "4                  548               4.926108  \n",
       "..                 ...                    ...  \n",
       "235                329              86.443381  \n",
       "236               1378              38.238573  \n",
       "237               2031              18.797565  \n",
       "238               1963              56.412826  \n",
       "239                399              83.867632  \n",
       "\n",
       "[4192 rows x 8 columns]"
      ]
     },
     "execution_count": 4,
     "metadata": {},
     "output_type": "execute_result"
    }
   ],
   "source": [
    "mrc['answer_location_ratio'] = mrc.apply(lambda x: (x['answers']['answer_start'][0] / len(x['context']))*100, axis=1)\n",
    "mrc"
   ]
  },
  {
   "cell_type": "code",
   "execution_count": 5,
   "metadata": {},
   "outputs": [
    {
     "data": {
      "image/png": "[encoded data removed]",
      "text/plain": [
       "<Figure size 640x480 with 1 Axes>"
      ]
     },
     "metadata": {},
     "output_type": "display_data"
    }
   ],
   "source": [
    "# visualize the distribution of answer location ratio\n",
    "\n",
    "import matplotlib.pyplot as plt\n",
    "import seaborn as sns\n",
    "\n",
    "sns.histplot(mrc['answer_location_ratio'])\n",
    "plt.title('Distribution of Answer_start Position Ratio')\n",
    "x = plt.xlabel('Answer_start Position Ratio')\n",
    "plt.show()\n"
   ]
  },
  {
   "cell_type": "code",
   "execution_count": 6,
   "metadata": {},
   "outputs": [
    {
     "data": {
      "text/html": [
       "<div>\n",
       "<style scoped>\n",
       "    .dataframe tbody tr th:only-of-type {\n",
       "        vertical-align: middle;\n",
       "    }\n",
       "\n",
       "    .dataframe tbody tr th {\n",
       "        vertical-align: top;\n",
       "    }\n",
       "\n",
       "    .dataframe thead th {\n",
       "        text-align: right;\n",
       "    }\n",
       "</style>\n",
       "<table border=\"1\" class=\"dataframe\">\n",
       "  <thead>\n",
       "    <tr style=\"text-align: right;\">\n",
       "      <th></th>\n",
       "      <th>title</th>\n",
       "      <th>context</th>\n",
       "      <th>question</th>\n",
       "      <th>id</th>\n",
       "      <th>answers</th>\n",
       "      <th>document_id</th>\n",
       "      <th>__index_level_0__</th>\n",
       "      <th>answer_location_ratio</th>\n",
       "    </tr>\n",
       "  </thead>\n",
       "  <tbody>\n",
       "    <tr>\n",
       "      <th>2749</th>\n",
       "      <td>이연희 (종교인)</td>\n",
       "      <td>이연희는 순교자 남명혁 다미아노의 부인이다. 그녀는 매우 강한 의지를 가진 매우 영...</td>\n",
       "      <td>남명혁 부인의 사망 당시 나이는?</td>\n",
       "      <td>mrc-0-002123</td>\n",
       "      <td>{'answer_start': [708], 'text': ['36세']}</td>\n",
       "      <td>39032</td>\n",
       "      <td>1394</td>\n",
       "      <td>99.159664</td>\n",
       "    </tr>\n",
       "  </tbody>\n",
       "</table>\n",
       "</div>"
      ],
      "text/plain": [
       "          title                                            context  \\\n",
       "2749  이연희 (종교인)  이연희는 순교자 남명혁 다미아노의 부인이다. 그녀는 매우 강한 의지를 가진 매우 영...   \n",
       "\n",
       "                question            id  \\\n",
       "2749  남명혁 부인의 사망 당시 나이는?  mrc-0-002123   \n",
       "\n",
       "                                       answers  document_id  \\\n",
       "2749  {'answer_start': [708], 'text': ['36세']}        39032   \n",
       "\n",
       "      __index_level_0__  answer_location_ratio  \n",
       "2749               1394              99.159664  "
      ]
     },
     "execution_count": 6,
     "metadata": {},
     "output_type": "execute_result"
    }
   ],
   "source": [
    "mrc_sorted = mrc.sort_values(by='answer_location_ratio', ascending=False)\n",
    "mrc_sorted.head(1)"
   ]
  },
  {
   "cell_type": "code",
   "execution_count": 7,
   "metadata": {},
   "outputs": [
    {
     "data": {
      "text/plain": [
       "'이연희는 순교자 남명혁 다미아노의 부인이다. 그녀는 매우 강한 의지를 가진 매우 영리한 여성이었다. 그녀도 권희 바르바라와 마찬가지로 당시의 위험을 무릅쓰고 앵베르 주교와 선교사들을 기꺼이 받아들여 그들에게 숙식을 제공했다. 사람들이 그녀의 집에 모여들면, 그녀는 그들을 돌보며 가르쳤고 그들이 성사를 볼 수 있도록 도왔다. 그녀의 친절과 겸손은 주위의 모든 사람들을 기쁘게 하였다.\\\\n\\\\n1839년에 그녀가 체포되었을 때, 그녀는 36세였다. 감옥에서 그녀는 형졸들에게 고문 받았다. 그녀가 그들의 무례함을 꾸짖자, 남편 남명혁은 그녀에게 천주교 신자는 순한 양처럼 죽어야 한다고 충고하였다. 그 후 그녀는 어떠한 학대나 잔혹 행위라도 불평없이 견뎠다.\\\\n\\\\n그녀의 12살 된 아들이 다른 옥방에 갖혀 있었는데, 형졸들은 그를 고문하며 그녀가 아들의 비명을 들을 수 있도록 했다. 형졸들은 그녀에게 아이가 어떻게 고문 받는지를 말해주었다. 그녀는 행여나 아들이 고문에 굴복하여 자신의 신앙을 버릴까 염려하였지만, 모든 시련은 하느님의 가장 위대한 영광을 위한 것이라고 말하며 스스로를 안심시켰다. 그녀는 가혹한 형벌과 고문을 받으면서도 마음 속 깊은 곳에서부터 하느님을 사랑하며 자신이 원하는 것은 오직 천국 뿐이라고 증언하였다.\\\\n\\\\n그녀는 1839년 9월 3일에 서소문 밖에서 다섯 명의 교우와 함께 참수 되었다. 그녀가 신앙을 위하여 목숨을 바쳤을 때 나이 36세였다.'"
      ]
     },
     "execution_count": 7,
     "metadata": {},
     "output_type": "execute_result"
    }
   ],
   "source": [
    "mrc_sorted['context'].iloc[0]"
   ]
  },
  {
   "cell_type": "code",
   "execution_count": 8,
   "metadata": {},
   "outputs": [
    {
     "data": {
      "image/png": "[encoded data removed]",
      "text/plain": [
       "<Figure size 640x480 with 1 Axes>"
      ]
     },
     "metadata": {},
     "output_type": "display_data"
    },
    {
     "data": {
      "image/png": "[encoded data removed]",
      "text/plain": [
       "<Figure size 640x480 with 1 Axes>"
      ]
     },
     "metadata": {},
     "output_type": "display_data"
    }
   ],
   "source": [
    "train_df['answer_location_ratio'] = train_df.apply(lambda x: (x['answers']['answer_start'][0] / len(x['context']))*100, axis=1)\n",
    "valid_df['answer_location_ratio'] = valid_df.apply(lambda x: (x['answers']['answer_start'][0] / len(x['context']))*100, axis=1)\n",
    "sns.histplot(train_df['answer_location_ratio'])\n",
    "plt.title('Distribution of Answer_start Position Ratio in Train Dataset')\n",
    "x = plt.xlabel('Answer_start Position Ratio')\n",
    "plt.show()\n",
    "\n",
    "sns.histplot(valid_df['answer_location_ratio'])\n",
    "plt.title('Distribution of Answer_start Position Ratio in Validation Dataset')\n",
    "x = plt.xlabel('Answer_start Position Ratio')\n",
    "plt.show()"
   ]
  },
  {
   "cell_type": "code",
   "execution_count": 9,
   "metadata": {},
   "outputs": [
    {
     "data": {
      "text/plain": [
       "count    4192.000000\n",
       "mean      920.020515\n",
       "std       356.661266\n",
       "min       512.000000\n",
       "25%       643.000000\n",
       "50%       819.000000\n",
       "75%      1100.250000\n",
       "max      2064.000000\n",
       "Name: context_length, dtype: float64"
      ]
     },
     "execution_count": 9,
     "metadata": {},
     "output_type": "execute_result"
    }
   ],
   "source": [
    "mrc['context_length'] = mrc['context'].apply(lambda x: len(x))\n",
    "mrc['question_length'] = mrc['question'].apply(lambda x: len(x))\n",
    "mrc['context_length'].describe()"
   ]
  },
  {
   "cell_type": "code",
   "execution_count": 10,
   "metadata": {},
   "outputs": [
    {
     "data": {
      "text/plain": [
       "count    4192.000000\n",
       "mean       29.315124\n",
       "std         8.726480\n",
       "min         8.000000\n",
       "25%        23.000000\n",
       "50%        29.000000\n",
       "75%        35.000000\n",
       "max        78.000000\n",
       "Name: question_length, dtype: float64"
      ]
     },
     "execution_count": 10,
     "metadata": {},
     "output_type": "execute_result"
    }
   ],
   "source": [
    "mrc['question_length'].describe()"
   ]
  },
  {
   "cell_type": "code",
   "execution_count": 152,
   "metadata": {},
   "outputs": [],
   "source": [
    "import re\n",
    "from tqdm import tqdm\n",
    "tqdm.pandas()  # tqdm을 pandas와 함께 사용 가능하게 설정\n",
    "\n",
    "def check_line_breaks(text):\n",
    "    print(repr(text))\n",
    "    \n",
    "def sentence_split(text):\n",
    "    # 간단한 문장 단위 분리 함수 (구두점 기준으로 문장을 분리)\n",
    "    sentences = re.split(r'(?<=[.!?])\\s+|\\n+|\\\\n+|\\xa0+|。', text)\n",
    "    \n",
    "    return sentences\n",
    "\n",
    "def check_token_length(wiki, tokenizer, max_seq_length):\n",
    "    \"\"\"\n",
    "    문서를 토큰화하고, 각 문서의 가장 긴 문장 토큰 길이를 계산하여,\n",
    "    max_seq_length를 초과하는 문서를 필터링하고 정렬된 결과를 반환하는 함수.\n",
    "\n",
    "    Parameters:\n",
    "    wiki (pd.DataFrame): 텍스트가 포함된 데이터프레임\n",
    "    tokenizer: 문장을 토큰화하는 tokenizer 객체\n",
    "    max_seq_length (int): 최대 시퀀스 길이\n",
    "\n",
    "    Returns:\n",
    "    pd.DataFrame: max_seq_length를 초과하는 긴 문장이 포함된 문서들\n",
    "    \"\"\"\n",
    "    wiki = wiki.copy()\n",
    "    wiki['context_sentences'] = wiki['text'].progress_apply(lambda x: sentence_split(x))\n",
    "    wiki['context_sentences_token_len_max'] = wiki['context_sentences'].progress_apply(lambda x: max([len(tokenizer.tokenize(sentence)) for sentence in x]))\n",
    "    print(wiki['context_sentences_token_len_max'].describe())\n",
    "    wiki_long = wiki[wiki['context_sentences_token_len_max'] > max_seq_length]\n",
    "    wiki_long = wiki_long.sort_values(by='context_sentences_token_len_max', ascending=False)\n",
    "    \n",
    "    return wiki_long\n",
    "\n",
    "def see_long_sentence(wiki_long, tokenizer, idx):\n",
    "    sentences = []\n",
    "    print(wiki_long['context_sentences_token_len_max'].iloc[idx])\n",
    "    for sentence in wiki_long['context_sentences'].iloc[idx]:\n",
    "        if len(tokenizer.tokenize(sentence)) > max_seq_length:\n",
    "            check_line_breaks(sentence)\n",
    "            print('*'*100)\n",
    "            print(tokenizer.tokenize(sentence))\n",
    "            print('*'*100)\n",
    "            print(sentence)\n",
    "            sentences.append(sentence)\n",
    "    return sentences\n",
    "    \n",
    "    # print(wiki_long['context_sentences'].iloc[idx])"
   ]
  },
  {
   "cell_type": "code",
   "execution_count": 153,
   "metadata": {},
   "outputs": [
    {
     "name": "stderr",
     "output_type": "stream",
     "text": [
      "100%|██████████| 60613/60613 [00:04<00:00, 12705.51it/s]\n",
      "  6%|▌         | 3401/60613 [00:06<01:45, 540.12it/s]Token indices sequence length is longer than the specified maximum sequence length for this model (632 > 512). Running this sequence through the model will result in indexing errors\n",
      "100%|██████████| 60613/60613 [01:47<00:00, 563.43it/s]\n"
     ]
    },
    {
     "name": "stdout",
     "output_type": "stream",
     "text": [
      "count    60613.000000\n",
      "mean        77.470361\n",
      "std         39.855717\n",
      "min          4.000000\n",
      "25%         55.000000\n",
      "50%         69.000000\n",
      "75%         90.000000\n",
      "max       1426.000000\n",
      "Name: context_sentences_token_len_max, dtype: float64\n"
     ]
    },
    {
     "data": {
      "text/plain": [
       "(18, 13)"
      ]
     },
     "execution_count": 153,
     "metadata": {},
     "output_type": "execute_result"
    }
   ],
   "source": [
    "from sentence_transformers import SentenceTransformer\n",
    "\n",
    "model_name = \"nlpai-lab/KoE5\"\n",
    "model = SentenceTransformer(\n",
    "    model_name_or_path=model_name, \n",
    "    )\n",
    "tokenizer = model.tokenizer\n",
    "max_seq_length = min(model.max_seq_length, model[0].auto_model.config.max_position_embeddings)  # 최대 시퀀스 길이\n",
    "\n",
    "wiki_long = check_token_length(wiki, tokenizer, max_seq_length)\n",
    "wiki_long.shape"
   ]
  },
  {
   "cell_type": "code",
   "execution_count": 140,
   "metadata": {},
   "outputs": [
    {
     "name": "stdout",
     "output_type": "stream",
     "text": [
      "12290\n",
      "12290\n",
      "['수번뇌(隨煩惱)|ps\"復次隨煩惱者', '謂貪不善根', '瞋不善根', '癡不善根', '若忿若恨', '如是廣說諸雜穢事', '當知此中能起一切不善法貪', '名貪不善根', '瞋癡亦爾', '若瞋恚纏能令面貌慘裂奮發', '說名為忿', '']\n",
      "['또한 직접 불교 경전 20권을 짓기도 했는데, 당시 석총(釋總)이라는 승려가 이 불경을 보고 \"하나같이 요사스러운 말로서 입에 담기도 어렵다\"고 혹평했고, 궁예는 석총을 철퇴로 패 죽이고 말았다.\\\\n이 외에도 917년에 선종 계열의 승려로, 후백제 지역에서 건너와 활동했던 형미도 궁예에게 죽임을 당했다고 전해져, 궁예가 억지스러운 불교 경전들을 짓고, 미륵으로 행세하는 식의, 정통 불교 교리를 근본적으로 파괴하는 억지스러운 자기 신격화를 추진하는 것에 대해 불교계가 거센 반발을 하고 있음을 알 수 있고, 또 유학자들의 경우도 본래 궁예의 최측근이였다가 궁예에게 죽을뻔한 왕건을 살려준 후, 궁예를 등지고 왕건의 최측근이 된 유학자 최응과 궁예 정권 시절 궁예의 태자인 청광보살의 사부의 벼슬이였던 동궁기실로 있다가 궁예의 왕비 강씨와 강씨의 두 아들이 처형된 전후에 궁을 탈출해 승려가 되었다가, 역시 왕건의 집권 후 돌아와 왕건의 신료가 되어 왕건에게 최초로 왕씨 성을 하사받은 왕유(본명 박유.)의 경우와 궁예가 몰락한 해인 918년 3월, 왕창근이 한 기이한 노인에게서 얻은 거울에 적힌 왕건이 궁예를 멸망시킨후 삼한을 통일하고 더 나아가 압록강까지 수복한다는 내용의 은어로 된 글들을 해석한후, 왕건과 자신들의 안전을 위해 거짓으로 꾸며서 왕건을 위기에서 구했다는 궁예의 문인들이였던 송함홍,백탁,허원 등의 경우들을 봐도, 대개의 유학자들과 유학 계열의 문인들 역시, 자신을 신으로 여기면서, 사람들에게 자신을 신격화시키고 신으로서의 숭배를 강요하는 궁예의 행동들에 반감을 가지고 있었음을 짐작할 수 있다.\\\\n\\\\n수덕만세 3년(913년) 왕건을 파진찬 겸 문하시중으로 임명해 수도로 불러들인지 1년만인 정개 원년(914년)에, 견훤이 나주를 공략해 오자 \"수군의 장수가 지위가 미천해서 위엄을 널리 보일 수 없다.\"며 다시 왕건을 시중에서 해임하고 백선장군으로 삼아 나주로 내려 보냈다.']\n",
      "1\n",
      "['또한 직접 불교 경전 20권을 짓기도 했는데, 당시 석총(釋總)이라는 승려가 이 불경을 보고 \"하나같이 요사스러운 말로서 입에 담기도 어렵다\"고 혹평했고, 궁예는 석총을 철퇴로 패 죽이고 말았다.', '이 외에도 917년에 선종 계열의 승려로, 후백제 지역에서 건너와 활동했던 형미도 궁예에게 죽임을 당했다고 전해져, 궁예가 억지스러운 불교 경전들을 짓고, 미륵으로 행세하는 식의, 정통 불교 교리를 근본적으로 파괴하는 억지스러운 자기 신격화를 추진하는 것에 대해 불교계가 거센 반발을 하고 있음을 알 수 있고, 또 유학자들의 경우도 본래 궁예의 최측근이였다가 궁예에게 죽을뻔한 왕건을 살려준 후, 궁예를 등지고 왕건의 최측근이 된 유학자 최응과 궁예 정권 시절 궁예의 태자인 청광보살의 사부의 벼슬이였던 동궁기실로 있다가 궁예의 왕비 강씨와 강씨의 두 아들이 처형된 전후에 궁을 탈출해 승려가 되었다가, 역시 왕건의 집권 후 돌아와 왕건의 신료가 되어 왕건에게 최초로 왕씨 성을 하사받은 왕유(본명 박유.)의 경우와 궁예가 몰락한 해인 918년 3월, 왕창근이 한 기이한 노인에게서 얻은 거울에 적힌 왕건이 궁예를 멸망시킨후 삼한을 통일하고 더 나아가 압록강까지 수복한다는 내용의 은어로 된 글들을 해석한후, 왕건과 자신들의 안전을 위해 거짓으로 꾸며서 왕건을 위기에서 구했다는 궁예의 문인들이였던 송함홍,백탁,허원 등의 경우들을 봐도, 대개의 유학자들과 유학 계열의 문인들 역시, 자신을 신으로 여기면서, 사람들에게 자신을 신격화시키고 신으로서의 숭배를 강요하는 궁예의 행동들에 반감을 가지고 있었음을 짐작할 수 있다.', '', '수덕만세 3년(913년) 왕건을 파진찬 겸 문하시중으로 임명해 수도로 불러들인지 1년만인 정개 원년(914년)에, 견훤이 나주를 공략해 오자 \"수군의 장수가 지위가 미천해서 위엄을 널리 보일 수 없다.\"며 다시 왕건을 시중에서 해임하고 백선장군으로 삼아 나주로 내려 보냈다.']\n",
      "4\n"
     ]
    }
   ],
   "source": [
    "print(ord('。'))\n",
    "print(ord('。'))\n",
    "\n",
    "s = '수번뇌(隨煩惱)|ps\"復次隨煩惱者。謂貪不善根。瞋不善根。癡不善根。若忿若恨。如是廣說諸雜穢事。當知此中能起一切不善法貪。名貪不善根。瞋癡亦爾。若瞋恚纏能令面貌慘裂奮發。說名為忿。'\n",
    "print(sentence_split(s))\n",
    "s = '또한 직접 불교 경전 20권을 짓기도 했는데, 당시 석총(釋總)이라는 승려가 이 불경을 보고 \"하나같이 요사스러운 말로서 입에 담기도 어렵다\"고 혹평했고, 궁예는 석총을 철퇴로 패 죽이고 말았다.\\\\n이 외에도 917년에 선종 계열의 승려로, 후백제 지역에서 건너와 활동했던 형미도 궁예에게 죽임을 당했다고 전해져, 궁예가 억지스러운 불교 경전들을 짓고, 미륵으로 행세하는 식의, 정통 불교 교리를 근본적으로 파괴하는 억지스러운 자기 신격화를 추진하는 것에 대해 불교계가 거센 반발을 하고 있음을 알 수 있고, 또 유학자들의 경우도 본래 궁예의 최측근이였다가 궁예에게 죽을뻔한 왕건을 살려준 후, 궁예를 등지고 왕건의 최측근이 된 유학자 최응과 궁예 정권 시절 궁예의 태자인 청광보살의 사부의 벼슬이였던 동궁기실로 있다가 궁예의 왕비 강씨와 강씨의 두 아들이 처형된 전후에 궁을 탈출해 승려가 되었다가, 역시 왕건의 집권 후 돌아와 왕건의 신료가 되어 왕건에게 최초로 왕씨 성을 하사받은 왕유(본명 박유.)의 경우와 궁예가 몰락한 해인 918년 3월, 왕창근이 한 기이한 노인에게서 얻은 거울에 적힌 왕건이 궁예를 멸망시킨후 삼한을 통일하고 더 나아가 압록강까지 수복한다는 내용의 은어로 된 글들을 해석한후, 왕건과 자신들의 안전을 위해 거짓으로 꾸며서 왕건을 위기에서 구했다는 궁예의 문인들이였던 송함홍,백탁,허원 등의 경우들을 봐도, 대개의 유학자들과 유학 계열의 문인들 역시, 자신을 신으로 여기면서, 사람들에게 자신을 신격화시키고 신으로서의 숭배를 강요하는 궁예의 행동들에 반감을 가지고 있었음을 짐작할 수 있다.\\\\n\\\\n수덕만세 3년(913년) 왕건을 파진찬 겸 문하시중으로 임명해 수도로 불러들인지 1년만인 정개 원년(914년)에, 견훤이 나주를 공략해 오자 \"수군의 장수가 지위가 미천해서 위엄을 널리 보일 수 없다.\"며 다시 왕건을 시중에서 해임하고 백선장군으로 삼아 나주로 내려 보냈다.'\n",
    "print(sentence_split(s))\n",
    "print(len(sentence_split(s)))\n",
    "s = re.split(r'(?<=[.!?])\\s+|\\n+|\\\\n+|\\xa0+|。', s)\n",
    "print(s)\n",
    "print(len(s))\n"
   ]
  },
  {
   "cell_type": "code",
   "execution_count": 154,
   "metadata": {},
   "outputs": [
    {
     "name": "stdout",
     "output_type": "stream",
     "text": [
      "1247\n",
      "'[光州長澤縣人從恭愍入元宿衛累官大護軍王卽位錄其功爲1等與金鏞有寵於王楊廣道按廉金南得笞辱忽赤中郞將鄭谷谷同僚權石和等訴於王世雲鏞與南得善請王杖流石和等于海島又與鏞忌密直副使任君輔有寵讒以詐傳王旨流濟州歷軍簿判書知門下省事錄誅奇轍功爲一等八年紅賊陷西京以世雲爲西北面都巡察使自黃州還言賊入西京積柴修城無進逼計願勿驚擾以安衆心轉參知政事倭寇楊廣道京城戒嚴令百官從軍諫官詣王宮辭世雲曰諫官從軍古所未聞如國體何命免之十年紅賊陷京城王幸福州世雲以樞密兼鷹揚軍上將軍從行性忠淸日夜憂憤以掃賊恢復自任王亦倚信世雲屢請亟下哀痛之敎以慰民心遣使督諸道兵討賊王遂以世雲爲摠兵官敎曰天下安注意相天下危注意將惟時與勢輕重在人可不愼哉恭惟太祖肇創鴻業列聖相承休養生民逮于寡人狃于宴安軍旅之事廢而不講以致紅賊侵犯播越而南每念宗社痛楚何堪今分遣諸將合兵攻賊乃授鄭世雲節鉞往董厥師賞罰用命不用命其各處軍官軍人敢有故遼節制及隔越馳聞者聽以軍法從事於戱師出以律有國之所當先國耳忘家爲臣之所當急惟爾士衆體予至懷世雲詣都堂憤然揚言曰吾甚寒徵如吾爲相國家宜亂竹嶺以南居人扈駕者不給糧幷從事此議已定今何不然紀綱乃爾安能制難謂柳淑曰吾明日出師公其往簽軍淑曰諸軍已到竹嶺大院矣世雲曰軍若後期公亦不得免責淑卽往督之又謂鏞曰今兩相玩寇如此孰不效耶若不殲賊縱竄匿山谷可得而生可得而國乎守侍中李嵓曰今寇賊闌人君臣播遷爲天下之笑三韓之恥而公首倡大義仗鉞行師社稷之再安王業之中興在此一擧惟公勉之吾君臣日夜望公之凱還也世雲行擢授中書平章事位二相三宰之間王遣塢達赤權天祐賜衣酒世雲附奏曰諸將有報獲賊者勿先論賞臣雖捕獲不敢數馳報以煩驛騎大戰之後具狀上聞西京人高敬至軍前言府民脫賊者無慮萬人請遣將鎭撫世雲大悅遣禮部尙書李珣往撫之督赴京城十一年世雲督諸將圍京城自退屯兜率院賊平遣大將軍金漢貴中郞將金景奉露布詣行在曰嘗軫濟世之心旁求俊彦敬承分閫之命恐累聖明竊聞興衰有數理亂無窮安民之要禦寇爲難太王去邠未能防狄人之逼明皇幸蜀不得制獦狗之侵掃赤眉而劉漢重興破黃巾而曹魏繼統薛悉惟時軍匪獨人爲當去歲之仲冬値滔天之勍敵論其肆毒雖豺虎之莫如觀其行兵亦孫吳之難抗日將自恣世無誰何乘勝長驅旣橫行於天下遠引直入遂大振於海東怒鋒不可當望風皆自潰百萬精甲奄屯住於都城億兆斯民蕩流離於道路嗟哉黎烝甚於塗炭況乘輿之遠狩實將相之深憂肆擧雲合之兵遂攻蟻聚之虜士卒得建瓴之勢赴敵何難頑嚚爲破竹之魂迎刃輒解制天下所不能制誅一世所不能誅魚可息於鼎中免難脫於網外田單一奇何足法葛亮八陣可爲師凌雪入城李愬取蔡州之地背水爲陣韓信拔趙壁之旗事雖不同義則允合昔蒐兵於己亥曾掃賊於朝鮮再克寇侵之强皆非臣等之績玆蓋伏遇殿下勇智天錫聖敬日躋遠播休風遵禮樂於三代誕敷文德舞干羽于兩階梟獍之所以馴犬羊之所以伏無不關於聖化亦皆有於至仁理之自然否則復泰斯乃重興之除實是更始之初臣等敢不競奮鷹揚之勇致淸明於會朝載伸鰲抃之誠佇瞻望於行在王喜賜漢貴黃金二十五兩帛二匹景帛二匹卽遣內燮詹(贍)事李大豆里賜世雲衣酒太后公主亦賜衣酒尋爲安祐等所害洪彦博聞其死曰摠兵之出師也言貌甚慠其及宜矣贈僉議政丞葬以禮又錄扈從及收復之功俱爲一等]'\n",
      "****************************************************************************************************\n",
      "['▁[', '光', '州', '長', '澤', '縣', '人', '從', '恭', '愍', '入', '元', '宿', '衛', '累', '官', '大', '護', '軍', '王', '卽', '位', '錄', '其', '功', '爲', '1', '等', '與', '金', '鏞', '有', '寵', '於', '王', '楊', '廣', '道', '按', '廉', '金', '南', '得', '笞', '辱', '忽', '赤', '中', '郞', '將', '鄭', '谷', '谷', '同', '僚', '權', '石', '和', '等', '訴', '於', '王', '世', '雲', '鏞', '與', '南', '得', '善', '請', '王', '杖', '流', '石', '和', '等', '于', '海', '島', '又', '與', '鏞', '忌', '密', '直', '副', '使', '任', '君', '輔', '有', '寵', '讒', '以', '詐', '傳', '王', '旨', '流', '濟', '州', '歷', '軍', '簿', '判', '書', '知', '門', '下', '省', '事', '錄', '誅', '奇', '轍', '功', '爲', '一', '等', '八', '年', '紅', '賊', '陷', '西', '京', '以', '世', '雲', '爲', '西北', '面', '都', '巡', '察', '使', '自', '黃', '州', '還', '言', '賊', '入', '西', '京', '積', '柴', '修', '城', '無', '進', '逼', '計', '願', '勿', '驚', '擾', '以', '安', '衆', '心', '轉', '參', '知', '政', '事', '倭', '寇', '楊', '廣', '道', '京', '城', '戒', '嚴', '令', '百', '官', '從', '軍', '諫', '官', '詣', '王', '宮', '辭', '世', '雲', '曰', '諫', '官', '從', '軍', '古', '所', '未', '聞', '如', '國', '體', '何', '命', '免', '之', '十年', '紅', '賊', '陷', '京', '城', '王', '幸福', '州', '世', '雲', '以', '樞', '密', '兼', '鷹', '揚', '軍', '上', '將', '軍', '從', '行', '性', '忠', '淸', '日', '夜', '憂', '憤', '以', '掃', '賊', '恢復', '自', '任', '王', '亦', '倚', '信', '世', '雲', '屢', '請', '亟', '下', '哀', '痛', '之', '敎', '以', '慰', '民', '心', '遣', '使', '督', '諸', '道', '兵', '討', '賊', '王', '遂', '以', '世', '雲', '爲', '摠', '兵', '官', '敎', '曰', '天下', '安', '注意', '相', '天下', '危', '注意', '將', '惟', '時', '與', '勢', '輕', '重', '在', '人', '可', '不', '愼', '哉', '恭', '惟', '太', '祖', '肇', '創', '鴻', '業', '列', '聖', '相', '承', '休', '養生', '民', '逮', '于', '寡', '人', '狃', '于', '宴', '安', '軍', '旅', '之', '事', '廢', '而不', '講', '以', '致', '紅', '賊', '侵犯', '播', '越', '而', '南', '每', '念', '宗', '社', '痛', '楚', '何', '堪', '今', '分', '遣', '諸', '將', '合', '兵', '攻', '賊', '乃', '授', '鄭', '世', '雲', '節', '鉞', '往', '董', '厥', '師', '賞', '罰', '用', '命', '不用', '命', '其', '各', '處', '軍', '官', '軍', '人', '敢', '有', '故', '遼', '節', '制', '及', '隔', '越', '馳', '聞', '者', '聽', '以', '軍', '法', '從事', '於', '戱', '師', '出', '以', '律', '有', '國', '之', '所', '當', '先', '國', '耳', '忘', '家', '爲', '臣', '之', '所', '當', '急', '惟', '爾', '士', '衆', '體', '予', '至', '懷', '世', '雲', '詣', '都', '堂', '憤', '然', '揚', '言', '曰', '吾', '甚', '寒', '徵', '如', '吾', '爲', '相', '國家', '宜', '亂', '竹', '嶺', '以', '南', '居', '人', '扈', '駕', '者', '不', '給', '糧', '幷', '從事', '此', '議', '已', '定', '今', '何', '不然', '紀', '綱', '乃', '爾', '安', '能', '制', '難', '謂', '柳', '淑', '曰', '吾', '明日', '出', '師', '公', '其', '往', '簽', '軍', '淑', '曰', '諸', '軍', '已', '到', '竹', '嶺', '大', '院', '矣', '世', '雲', '曰', '軍', '若', '後', '期', '公', '亦', '不得', '免', '責', '淑', '卽', '往', '督', '之', '又', '謂', '鏞', '曰', '今', '兩', '相', '玩', '寇', '如此', '孰', '不', '效', '耶', '若', '不', '殲', '賊', '縱', '竄', '匿', '山', '谷', '可', '得', '而', '生', '可', '得', '而', '國', '乎', '守', '侍', '中', '李', '嵓', '曰', '今', '寇', '賊', '闌', '人', '君', '臣', '播', '遷', '爲', '天下', '之', '笑', '三', '韓', '之', '恥', '而', '公', '首', '倡', '大', '義', '仗', '鉞', '行', '師', '社', '稷', '之', '再', '安', '王', '業', '之中', '興', '在此', '一', '擧', '惟', '公', '勉', '之', '吾', '君', '臣', '日', '夜', '望', '公', '之', '凱', '還', '也', '世', '雲', '行', '擢', '授', '中', '書', '平', '章', '事', '位', '二', '相', '三', '宰', '之間', '王', '遣', '塢', '達', '赤', '權', '天', '祐', '賜', '衣', '酒', '世', '雲', '附', '奏', '曰', '諸', '將', '有', '報', '獲', '賊', '者', '勿', '先', '論', '賞', '臣', '雖', '捕', '獲', '不敢', '數', '馳', '報', '以', '煩', '驛', '騎', '大', '戰', '之後', '具', '狀', '上', '聞', '西', '京', '人', '高', '敬', '至', '軍', '前', '言', '府', '民', '脫', '賊', '者', '無', '慮', '萬人', '請', '遣', '將', '鎭', '撫', '世', '雲', '大', '悅', '遣', '禮', '部', '尙', '書', '李', '珣', '往', '撫', '之', '督', '赴', '京', '城', '十一', '年', '世', '雲', '督', '諸', '將', '圍', '京', '城', '自', '退', '屯', '兜', '率', '院', '賊', '平', '遣', '大', '將', '軍', '金', '漢', '貴', '中', '郞', '將', '金', '景', '奉', '露', '布', '詣', '行', '在', '曰', '嘗', '軫', '濟', '世', '之', '心', '旁', '求', '俊', '彦', '敬', '承', '分', '閫', '之', '命', '恐', '累', '聖', '明', '竊', '聞', '興', '衰', '有', '數', '理', '亂', '無', '窮', '安', '民', '之', '要', '禦', '寇', '爲', '難', '太', '王', '去', '邠', '未能', '防', '狄', '人', '之', '逼', '明', '皇', '幸', '蜀', '不得', '制', '獦', '狗', '之', '侵', '掃', '赤', '眉', '而', '劉', '漢', '重', '興', '破', '黃', '巾', '而', '曹', '魏', '繼', '統', '薛', '悉', '惟', '時', '軍', '匪', '獨', '人', '爲', '當', '去', '歲', '之', '仲', '冬', '値', '滔', '天', '之', '勍', '敵', '論', '其', '肆', '毒', '雖', '豺', '虎', '之', '莫', '如', '觀', '其', '行', '兵', '亦', '孫', '吳', '之', '難', '抗', '日', '將', '自', '恣', '世', '無', '誰', '何', '乘', '勝', '長', '驅', '旣', '橫', '行', '於', '天下', '遠', '引', '直', '入', '遂', '大', '振', '於', '海', '東', '怒', '鋒', '不可', '當', '望', '風', '皆', '自', '潰', '百萬', '精', '甲', '奄', '屯', '住', '於', '都', '城', '億', '兆', '斯', '民', '蕩', '流', '離', '於', '道路', '嗟', '哉', '黎', '烝', '甚', '於', '塗', '炭', '況', '乘', '輿', '之', '遠', '狩', '實', '將', '相', '之', '深', '憂', '肆', '擧', '雲', '合', '之', '兵', '遂', '攻', '蟻', '聚', '之', '虜', '士', '卒', '得', '建', '瓴', '之', '勢', '赴', '敵', '何', '難', '頑', '嚚', '爲', '破', '竹', '之', '魂', '迎', '刃', '輒', '解', '制', '天下', '所', '不能', '制', '誅', '一', '世', '所', '不能', '誅', '魚', '可', '息', '於', '鼎', '中', '免', '難', '脫', '於', '網', '外', '田', '單', '一', '奇', '何', '足', '法', '葛', '亮', '八', '陣', '可', '爲', '師', '凌', '雪', '入', '城', '李', '愬', '取', '蔡', '州', '之地', '背', '水', '爲', '陣', '韓', '信', '拔', '趙', '壁', '之', '旗', '事', '雖', '不同', '義', '則', '允', '合', '昔', '蒐', '兵', '於', '己', '亥', '曾', '掃', '賊', '於', '朝鮮', '再', '克', '寇', '侵', '之', '强', '皆', '非', '臣', '等', '之', '績', '玆', '蓋', '伏', '遇', '殿', '下', '勇', '智', '天', '錫', '聖', '敬', '日', '躋', '遠', '播', '休', '風', '遵', '禮', '樂', '於', '三', '代', '誕', '敷', '文', '德', '舞', '干', '羽', '于', '兩', '階', '梟', '獍', '之所以', '馴', '犬', '羊', '之所以', '伏', '無', '不', '關於', '聖', '化', '亦', '皆', '有', '於', '至', '仁', '理', '之', '自然', '否則', '復', '泰', '斯', '乃', '重', '興', '之', '除', '實', '是', '更', '始', '之', '初', '臣', '等', '敢', '不', '競', '奮', '鷹', '揚', '之', '勇', '致', '淸', '明', '於', '會', '朝', '載', '伸', '鰲', '抃', '之', '誠', '佇', '瞻', '望', '於', '行', '在', '王', '喜', '賜', '漢', '貴', '黃金', '二十', '五', '兩', '帛', '二', '匹', '景', '帛', '二', '匹', '卽', '遣', '內', '燮', '詹', '(', '贍', ')', '事', '李', '大', '豆', '里', '賜', '世', '雲', '衣', '酒', '太', '后', '公主', '亦', '賜', '衣', '酒', '尋', '爲', '安', '祐', '等', '所', '害', '洪', '彦', '博', '聞', '其', '死', '曰', '摠', '兵', '之', '出', '師', '也', '言', '貌', '甚', '慠', '其', '及', '宜', '矣', '贈', '僉', '議', '政', '丞', '葬', '以', '禮', '又', '錄', '扈', '從', '及', '收', '復', '之', '功', '俱', '爲', '一', '等', ']']\n",
      "****************************************************************************************************\n",
      "[光州長澤縣人從恭愍入元宿衛累官大護軍王卽位錄其功爲1等與金鏞有寵於王楊廣道按廉金南得笞辱忽赤中郞將鄭谷谷同僚權石和等訴於王世雲鏞與南得善請王杖流石和等于海島又與鏞忌密直副使任君輔有寵讒以詐傳王旨流濟州歷軍簿判書知門下省事錄誅奇轍功爲一等八年紅賊陷西京以世雲爲西北面都巡察使自黃州還言賊入西京積柴修城無進逼計願勿驚擾以安衆心轉參知政事倭寇楊廣道京城戒嚴令百官從軍諫官詣王宮辭世雲曰諫官從軍古所未聞如國體何命免之十年紅賊陷京城王幸福州世雲以樞密兼鷹揚軍上將軍從行性忠淸日夜憂憤以掃賊恢復自任王亦倚信世雲屢請亟下哀痛之敎以慰民心遣使督諸道兵討賊王遂以世雲爲摠兵官敎曰天下安注意相天下危注意將惟時與勢輕重在人可不愼哉恭惟太祖肇創鴻業列聖相承休養生民逮于寡人狃于宴安軍旅之事廢而不講以致紅賊侵犯播越而南每念宗社痛楚何堪今分遣諸將合兵攻賊乃授鄭世雲節鉞往董厥師賞罰用命不用命其各處軍官軍人敢有故遼節制及隔越馳聞者聽以軍法從事於戱師出以律有國之所當先國耳忘家爲臣之所當急惟爾士衆體予至懷世雲詣都堂憤然揚言曰吾甚寒徵如吾爲相國家宜亂竹嶺以南居人扈駕者不給糧幷從事此議已定今何不然紀綱乃爾安能制難謂柳淑曰吾明日出師公其往簽軍淑曰諸軍已到竹嶺大院矣世雲曰軍若後期公亦不得免責淑卽往督之又謂鏞曰今兩相玩寇如此孰不效耶若不殲賊縱竄匿山谷可得而生可得而國乎守侍中李嵓曰今寇賊闌人君臣播遷爲天下之笑三韓之恥而公首倡大義仗鉞行師社稷之再安王業之中興在此一擧惟公勉之吾君臣日夜望公之凱還也世雲行擢授中書平章事位二相三宰之間王遣塢達赤權天祐賜衣酒世雲附奏曰諸將有報獲賊者勿先論賞臣雖捕獲不敢數馳報以煩驛騎大戰之後具狀上聞西京人高敬至軍前言府民脫賊者無慮萬人請遣將鎭撫世雲大悅遣禮部尙書李珣往撫之督赴京城十一年世雲督諸將圍京城自退屯兜率院賊平遣大將軍金漢貴中郞將金景奉露布詣行在曰嘗軫濟世之心旁求俊彦敬承分閫之命恐累聖明竊聞興衰有數理亂無窮安民之要禦寇爲難太王去邠未能防狄人之逼明皇幸蜀不得制獦狗之侵掃赤眉而劉漢重興破黃巾而曹魏繼統薛悉惟時軍匪獨人爲當去歲之仲冬値滔天之勍敵論其肆毒雖豺虎之莫如觀其行兵亦孫吳之難抗日將自恣世無誰何乘勝長驅旣橫行於天下遠引直入遂大振於海東怒鋒不可當望風皆自潰百萬精甲奄屯住於都城億兆斯民蕩流離於道路嗟哉黎烝甚於塗炭況乘輿之遠狩實將相之深憂肆擧雲合之兵遂攻蟻聚之虜士卒得建瓴之勢赴敵何難頑嚚爲破竹之魂迎刃輒解制天下所不能制誅一世所不能誅魚可息於鼎中免難脫於網外田單一奇何足法葛亮八陣可爲師凌雪入城李愬取蔡州之地背水爲陣韓信拔趙壁之旗事雖不同義則允合昔蒐兵於己亥曾掃賊於朝鮮再克寇侵之强皆非臣等之績玆蓋伏遇殿下勇智天錫聖敬日躋遠播休風遵禮樂於三代誕敷文德舞干羽于兩階梟獍之所以馴犬羊之所以伏無不關於聖化亦皆有於至仁理之自然否則復泰斯乃重興之除實是更始之初臣等敢不競奮鷹揚之勇致淸明於會朝載伸鰲抃之誠佇瞻望於行在王喜賜漢貴黃金二十五兩帛二匹景帛二匹卽遣內燮詹(贍)事李大豆里賜世雲衣酒太后公主亦賜衣酒尋爲安祐等所害洪彦博聞其死曰摠兵之出師也言貌甚慠其及宜矣贈僉議政丞葬以禮又錄扈從及收復之功俱爲一等]\n",
      "ss: 1\n"
     ]
    }
   ],
   "source": [
    "x = 1\n",
    "ss = see_long_sentence(wiki_long, tokenizer, x)\n",
    "print(f'ss: {len(ss)}')\n",
    "# s = ss[0]\n",
    "# print(sentence_split(s))"
   ]
  },
  {
   "cell_type": "code",
   "execution_count": 156,
   "metadata": {},
   "outputs": [
    {
     "data": {
      "text/plain": [
       "Index(['text', 'corpus_source', 'url', 'domain', 'title', 'author', 'html',\n",
       "       'document_id', 'context_sentences', 'context_sentences_len_max',\n",
       "       'context_sentences2', 'context_sentences2_len_max'],\n",
       "      dtype='object')"
      ]
     },
     "execution_count": 156,
     "metadata": {},
     "output_type": "execute_result"
    }
   ],
   "source": [
    "wiki.columns"
   ]
  },
  {
   "cell_type": "code",
   "execution_count": 207,
   "metadata": {},
   "outputs": [],
   "source": [
    "wiki_processed = wiki.copy()\n",
    "except_idx = []"
   ]
  },
  {
   "cell_type": "code",
   "execution_count": 208,
   "metadata": {},
   "outputs": [],
   "source": [
    "def find_string_in_text(df, search_string):\n",
    "    return df[df['text'].str.contains(search_string, na=False, regex=False)].index\n"
   ]
  },
  {
   "cell_type": "code",
   "execution_count": 279,
   "metadata": {},
   "outputs": [
    {
     "name": "stdout",
     "output_type": "stream",
     "text": [
      "586\n",
      "['같은 시기에 사용된 다른 연호로는 동진(東晉)에서 사용한 융안(隆安 : 397년 ~ 401년), 원흥(元興 : 402년 ~ 404년), 대형(大亨 : 402년 ~ 403년), 의희(義熙 : 405년 ~ 418년), 환현(桓玄)의 초(楚)에서 사용한 건시(建始 : 403년), 영시(永始 : 403년 ~ 404년), 후연(後燕)에서 사용한 장락(長樂 : 399년 ~ 401년), 광시(光始 : 401년 ~ 406년), 건시(建始 : 407년), 서진(西秦)에서 사용한 태초(太初 : 388년 ~ 400년), 경시(更始 : 409년 ~ 412년), 영강(永康 : 412년 ~ 419년), 후량(後凉)에서 사용한 용비(龍飛 : 396년 ~ 399년), 함녕(咸寧 : 399년 ~ 401년), 신정(神鼎 : 401년 ~ 403년), 북량(北凉)에서 사용한 천새(天璽 : 399년 ~ 401년), 영안(永安 : 401년 ~ 412년), 현시(玄始 : 412년 ~ 428년), 남량(南凉)에서 사용한 태초(太初 : 397년 ~ 399년), 건화(建和 : 400년 ~ 402년), 홍창(弘昌 : 402년 ~ 404년), 가평(嘉平 : 408년 ~ 414년), 남연(南燕)에서 사용한 건평(建平 : 400년 ~ 405년), 태상(太上 : 405년 ~ 410년), 서량(西凉)에서 사용한 경자(庚子 : 400년 ~ 404년), 건초(建初 : 405년 ~ 417년), 하(夏)에서 사용한 용승(龍昇 : 407년 ~ 413년), 봉상(鳳翔 : 413년 ~ 418년), 북연(北燕)에서 사용한 정시(正始 : 407년 ~ 409년), 태평(太平 : 409년 ~ 430년), 북위(北魏)에서 사용한 천흥(天興 : 398년 ~ 404년), 천사(天賜 : 404년 ~ 409년), 영흥(永興 : 409년 ~ 413년), 신서(神瑞 : 414년 ~ 416년)가 있다.']\n",
      "586\n"
     ]
    }
   ],
   "source": [
    "s = '같은 시기에 사용된 다른 연호로는 동진(東晉)에서 사용한 융안(隆安 : 397년 ~ 401년), 원흥(元興 : 402년 ~ 404년), 대형(大亨 : 402년 ~ 403년), 의희(義熙 : 405년 ~ 418년), 환현(桓玄)의 초(楚)에서 사용한 건시(建始 : 403년), 영시(永始 : 403년 ~ 404년), 후연(後燕)에서 사용한 장락(長樂 : 399년 ~ 401년), 광시(光始 : 401년 ~ 406년), 건시(建始 : 407년), 서진(西秦)에서 사용한 태초(太初 : 388년 ~ 400년), 경시(更始 : 409년 ~ 412년), 영강(永康 : 412년 ~ 419년), 후량(後凉)에서 사용한 용비(龍飛 : 396년 ~ 399년), 함녕(咸寧 : 399년 ~ 401년), 신정(神鼎 : 401년 ~ 403년), 북량(北凉)에서 사용한 천새(天璽 : 399년 ~ 401년), 영안(永安 : 401년 ~ 412년), 현시(玄始 : 412년 ~ 428년), 남량(南凉)에서 사용한 태초(太初 : 397년 ~ 399년), 건화(建和 : 400년 ~ 402년), 홍창(弘昌 : 402년 ~ 404년), 가평(嘉平 : 408년 ~ 414년), 남연(南燕)에서 사용한 건평(建平 : 400년 ~ 405년), 태상(太上 : 405년 ~ 410년), 서량(西凉)에서 사용한 경자(庚子 : 400년 ~ 404년), 건초(建初 : 405년 ~ 417년), 하(夏)에서 사용한 용승(龍昇 : 407년 ~ 413년), 봉상(鳳翔 : 413년 ~ 418년), 북연(北燕)에서 사용한 정시(正始 : 407년 ~ 409년), 태평(太平 : 409년 ~ 430년), 북위(北魏)에서 사용한 천흥(天興 : 398년 ~ 404년), 천사(天賜 : 404년 ~ 409년), 영흥(永興 : 409년 ~ 413년), 신서(神瑞 : 414년 ~ 416년)가 있다.'\n",
    "s = '같은 시기에 사용된 다른 연호로는 동진(東晉)에서 사용한 융안(隆安 : 397년 ~ 401년), 원흥(元興 : 402년 ~ 404년), 대형(大亨 : 402년 ~ 403년), 의희(義熙 : 405년 ~ 418년), 환현(桓玄)의 초(楚)에서 사용한 건시(建始 : 403년), 영시(永始 : 403년 ~ 404년), 후진(後秦)에서 사용한 홍시(弘始 : 399년 ~ 416년), 후량(後凉)에서 사용한 신정(神鼎 : 401년 ~ 403년), 북량(北凉)에서 사용한 영안(永安 : 401년 ~ 412년), 남량(南凉)에서 사용한 건화(建和 : 400년 ~ 402년), 홍창(弘昌 : 402년 ~ 404년), 남연(南燕)에서 사용한 건평(建平 : 400년 ~ 405년), 태상(太上 : 405년 ~ 410년), 서량(西凉)에서 사용한 경자(庚子 : 400년 ~ 404년), 건초(建初 : 405년 ~ 417년), 북위(北魏)에서 사용한 천흥(天興 : 398년 ~ 404년), 천사(天賜 : 404년 ~ 409년)가 있다.'\n",
    "tokenized = tokenizer.tokenize(s)\n",
    "print(len(tokenized))\n",
    "s = sentence_split(s)\n",
    "print(s)\n",
    "for x in s:\n",
    "    tokenized = tokenizer.tokenize(x)\n",
    "    print(len(tokenized))"
   ]
  },
  {
   "cell_type": "code",
   "execution_count": 347,
   "metadata": {},
   "outputs": [
    {
     "name": "stdout",
     "output_type": "stream",
     "text": [
      "index: Index(['44414'], dtype='object')\n",
      "****************************************************************************************************\n",
      "『천지명양수륙재의찬요(天地冥陽水陸齋纂要)』는 물과 땅에서 죽은 고혼(孤魂)들을 달래기 위한 수륙재(水陸齋)의 의식차를 요약한 의례서이다. 보통 『중례문(中禮文)』이라고 한다. 수륙재는 양(梁)나라 무제(武帝) 때인 6세기 초반부터 시작되었고, 송나라 희령연간(熙寧年間)에 동천(東川)이 『수륙문(水陸文)』 3권을 지어 보급함으로써 크게 성행하였다. 우리나라에서도 970년(고려 종 21)에 갈양사(葛陽寺)에서 개설된 이후 조선시에도 진관사(津寬寺)를 중심으로 계속되었다.  \n",
      "\n",
      "이 책은 1593년(선조 26)에 전라도 담양(潭陽)의 용천사(龍泉寺)에서 간행한 목판본으로 모두 54편이 수록되어 있다. 제1편인 설회인유편(設會因由篇)부터 엄정팔방편(嚴淨八方篇), 주향통서편(呪香通序篇), 주향공양편(呪香供養{篇), 소청사[자편](召請使[者篇]), 안위공양편 제6(安位供養篇 第六), 봉[송사자편](奉[送使者篇]), 개벽오방편(開闢五方篇), 안위공양편 제9, 소청상위편(召請上位篇), 봉영부욕편 제11(奉迎赴浴篇 第十一), 찬탄관욕편(讚歎灌浴篇), 인성귀위편(引聖歸位位篇), 헌좌안위편 제14(獻座安危篇 第十四), 찬례삼보편(讚禮三寶篇), 소청중위편(召請中位篇), 봉영부욕 제17, 가지조욕편 제18(加持澡浴篇 第十八), 출욕참성편 제19(出浴參聖篇 第十九), 천선예성편(天仙禮聖篇), 헌좌안위편 제21, 소청하위편(召請下位篇), 인예향욕편(引詣香浴篇), 가지조욕편 제24, 가지화의편(加持化衣篇), 수의복식편(授衣服飾篇), 출욕참성편 제27, 고혼예성편(孤魂禮聖篇), 수위안좌편(受位安座篇), 기성가지편(祈聖加持篇), 보신배헌편(普伸拜獻篇), 공성회향편(供聖廻向篇), 선밀가지편(宣蜜加持篇), 가지멸죄편(加持滅罪篇), 주식현절편(呪食現切篇), 고혼수향편(孤魂受饗篇), 설시인연편(說示因緣篇), 원성수은편(願聖垂恩篇), 청성수계편(請聖受戒篇), 참제업장편(懺除業障篇), 발홍서원편(發弘誓願篇), 사사귀정편(捨邪皈正 篇), 석상호지편(釋相護持篇), 득계소요편(得戒逍遙篇), 득성십도편(修成十度篇), 의십획과편(依十獲果篇), 관행게찬편(觀行偈讚篇), 회향게찬편(廻向偈讚篇), 화재수용편(化財受用篇), 경신봉송편(敬伸奉送篇), 보신회향편(普伸廻向篇)까지 모두 54편의 의식에 대해 설명해 놓았다.  \n",
      "\n",
      "본문이 끝난 다음의 “萬曆二十一年癸巳(1593)三月上旬{畢全羅道潭陽地秋[月]山龍泉寺開”과  같이 이 책은 1593년 3월에 전라도 담양의 용천사에서 간행된 판본임을 알 수 있다. 용천사는 임진왜란 이에 간행한 불서 중에서 현전하는 것만도 근 20종이나 되는 것으로 보아, 불서의 간행이 활발했던 사찰이었던 것으로 판단된다. 인출 시기는 17세기로 보인다. \n",
      " \n",
      "임진왜란 이전에 간행된 『천지명양수륙재의찬요』중에서 1529년 충청도 홍산의 무량사 판본과 용천사 판본은 행자수가 8행14자 형식인데 비해 나머지는 모두 7행17자이다. 그런 점에서 볼 때 용천사 판본은 인근의 무량사 판본의 계통본으로 볼 수 있다. 앞표지 내면에는 “人生如幻又如夢, 樂日終時苦日長, 若也心頭無正慧, 死將何物答冥王”(『청허집』 권3의 「계쌍인소사(誡雙印小師)」, 쌓인 소사에게 훈계함), 뒤표지 내면에도 칠언시가 묵서되어 있다. 이전의 소장자가 쓴 것으로 보이는데 그가 누구인지는 알 수가 없다.  \n",
      "\n",
      "표지는 근자에 원래의 표지 위에 다시 새로운 표지를 덧대어 개장해 놓았다. 전의 앞뒤 표지에는 『중례문(中礼文)』이라는 서명이 묵서되어 있고, 이 표지부터 제8장까지는 가운데 아랫 부분의 손상이 제법 큰데 복장되어 있을 때 피해를 입은 것으로 보인다. 판심제는 『中』, 본문이 끝난 뒤에는 간행기록이 있는 장이 있는데 다행이 1-2행이 남아 있어서 이 판본의 간행사실 을 알 수 있다.  \n",
      "\n",
      "『천지명양수륙재의찬요』 에서 이 판본 이전에 간행된 판본으로는 서울시 유형문화재 제258호로 지정된 15세기 합천 해인사 판본(1469년 김수온 발문)부터 1580년에 간행된 용인의 서봉사 판본까지 15종 이상이 알려져 있다. 그러나 이 용천사 간행의 판본은 전 국토가 일본과의 전란중인 1593년 3월 상순에 완성된 판본이다. 비록 보존상태가 완전하지 못하지만 임진왜란 중에 간행된 판본이라는 점과 용천사 본으로는 처음 공개된다는 점에서 가치를 찾을 수 있겠다. 그런 점에서 문화재자료로 추천할 만하다고 하겠다.\n",
      "****************************************************************************************************\n",
      "제르바 섬 해전 기독교 동맹 해군 함대는 제노바 공화국, 토스카나 대공국, 교황령, 몰타 기사단을 중심으로 결성되었다. 메시나에서 창설된 기독교 동맹 해군 함대는 제노바 공화국의 조반니 안드레아 도리아(1530-1606) 제독이 지휘관을 맡았다. (조반니 안드레아 도리아는 안드레아 도리아(1466-1560)의 재종손자이다.)  \n",
      "\n",
      "기독교 동맹 해군 함대는 갤리 54척, 그 외의 선박 66척을 이끌고 항해를 시작했다. 기독교 동맹 해군 함대는 먼저 몰타를 항행했지만 악천후로 인해 2개월 동안 몰타에서 정박했고 선원 2,000명이 질병으로 사망하고 만다.\n",
      "\n",
      "기독교 동맹 해군 함대는 1560년 2월 10일에 트리폴리 방향으로 출항했다. 원정대는 트리폴리에서 멀지 않은 지점에 상륙했지만 음료수 부족, 전염병, 악천후로 인해 목표 지점을 포기했고 3월 7일에 통과 지점이었던 제르바 섬으로 귀환했다.\n",
      "\n",
      "오스만 제국 해군 함대 소속 갤리·갤리엇 86척은 피알리 파샤 해군 사령관의 지시에 따라 이스탄불에서 항해를 시작했다. 오스만 제국 해군 함대는 1560년 5월 11일에 제르바 섬에 도착했는데, 기독교 동맹측은 전혀 예상치 못했었기 때문에 매우 놀라고 당황했다.\n",
      "****************************************************************************************************\n",
      "\n",
      "check long sentence:\n",
      "no long sentence\n"
     ]
    }
   ],
   "source": [
    "i = 0\n",
    "text = '제1편인 설회인유편(設會因由篇)부터 엄정팔방편(嚴淨八方篇), 주향통서편(呪香通序篇), 주향공양편(呪香供養'\n",
    "index = find_string_in_text(wiki, text)\n",
    "# wiki_processed.loc[index, 'text'] = wiki_processed.loc[index, 'text'].str.replace('.', '. ', regex=False)\n",
    "# wiki_processed.loc[index[0], 'text'] = wiki_processed['text'].iloc[int(index[i])].split('<정세운(鄭世雲)>')[0] + text\n",
    "print(f'index: {index}')\n",
    "print('*'*100)\n",
    "print(wiki.iloc[int(index[i])]['text'])\n",
    "print('*'*100)\n",
    "print(wiki_processed.iloc[int(index[i])]['text'])\n",
    "print('*'*100)\n",
    "\n",
    "print()\n",
    "print('check long sentence:')\n",
    "splited = sentence_split(wiki_processed.iloc[int(index[i])]['text'])\n",
    "flag = False\n",
    "for s in splited:\n",
    "    tokenized = tokenizer.tokenize(s)\n",
    "    # print(f'{len(tokenized)} : {s}')\n",
    "    if len(tokenized) > max_seq_length:\n",
    "        print(f'{len(tokenized)} : {s}')\n",
    "        flag = True\n",
    "if not flag:\n",
    "    print('no long sentence')"
   ]
  },
  {
   "cell_type": "code",
   "execution_count": 341,
   "metadata": {},
   "outputs": [
    {
     "data": {
      "text/html": [
       "<div>\n",
       "<style scoped>\n",
       "    .dataframe tbody tr th:only-of-type {\n",
       "        vertical-align: middle;\n",
       "    }\n",
       "\n",
       "    .dataframe tbody tr th {\n",
       "        vertical-align: top;\n",
       "    }\n",
       "\n",
       "    .dataframe thead th {\n",
       "        text-align: right;\n",
       "    }\n",
       "</style>\n",
       "<table border=\"1\" class=\"dataframe\">\n",
       "  <thead>\n",
       "    <tr style=\"text-align: right;\">\n",
       "      <th></th>\n",
       "      <th>text</th>\n",
       "      <th>corpus_source</th>\n",
       "      <th>url</th>\n",
       "      <th>domain</th>\n",
       "      <th>title</th>\n",
       "      <th>author</th>\n",
       "      <th>html</th>\n",
       "      <th>document_id</th>\n",
       "    </tr>\n",
       "  </thead>\n",
       "  <tbody>\n",
       "    <tr>\n",
       "      <th>0</th>\n",
       "      <td>이 문서는 나라 목록이며, 전 세계 206개 나라의 각 현황과 주권 승인 정보를 개...</td>\n",
       "      <td>위키피디아</td>\n",
       "      <td>TODO</td>\n",
       "      <td>None</td>\n",
       "      <td>나라 목록</td>\n",
       "      <td>None</td>\n",
       "      <td>None</td>\n",
       "      <td>0</td>\n",
       "    </tr>\n",
       "    <tr>\n",
       "      <th>1</th>\n",
       "      <td>이 목록에 실린 국가 기준은 1933년 몬테비데오 협약 1장을 참고로 하였다. 협정...</td>\n",
       "      <td>위키피디아</td>\n",
       "      <td>TODO</td>\n",
       "      <td>None</td>\n",
       "      <td>나라 목록</td>\n",
       "      <td>None</td>\n",
       "      <td>None</td>\n",
       "      <td>1</td>\n",
       "    </tr>\n",
       "    <tr>\n",
       "      <th>2</th>\n",
       "      <td>현 서울특별시 종로구 서린동 (구 일제 강점기 경기도 경성부 서린정) 출신이다. 친...</td>\n",
       "      <td>위키피디아</td>\n",
       "      <td>TODO</td>\n",
       "      <td>None</td>\n",
       "      <td>백남준</td>\n",
       "      <td>None</td>\n",
       "      <td>None</td>\n",
       "      <td>2</td>\n",
       "    </tr>\n",
       "    <tr>\n",
       "      <th>3</th>\n",
       "      <td>아오조라 문고(靑空文庫, あおぞらぶんこ|아오조라 분고)는 ‘일본어판 구텐베르크 프로...</td>\n",
       "      <td>위키피디아</td>\n",
       "      <td>TODO</td>\n",
       "      <td>None</td>\n",
       "      <td>아오조라 문고</td>\n",
       "      <td>None</td>\n",
       "      <td>None</td>\n",
       "      <td>3</td>\n",
       "    </tr>\n",
       "    <tr>\n",
       "      <th>4</th>\n",
       "      <td>저자 사망 이후 50년이 지나 저작권이 소멸한 메이지 시대부터 쇼와 시대 초기까지의...</td>\n",
       "      <td>위키피디아</td>\n",
       "      <td>TODO</td>\n",
       "      <td>None</td>\n",
       "      <td>아오조라 문고</td>\n",
       "      <td>None</td>\n",
       "      <td>None</td>\n",
       "      <td>4</td>\n",
       "    </tr>\n",
       "    <tr>\n",
       "      <th>...</th>\n",
       "      <td>...</td>\n",
       "      <td>...</td>\n",
       "      <td>...</td>\n",
       "      <td>...</td>\n",
       "      <td>...</td>\n",
       "      <td>...</td>\n",
       "      <td>...</td>\n",
       "      <td>...</td>\n",
       "    </tr>\n",
       "    <tr>\n",
       "      <th>60608</th>\n",
       "      <td>오키나와 현립 박물관·미술관( , Okinawa Prefectural Museum ...</td>\n",
       "      <td>위키피디아</td>\n",
       "      <td>None</td>\n",
       "      <td>None</td>\n",
       "      <td>오키나와 현립 박물관·미술관</td>\n",
       "      <td>None</td>\n",
       "      <td>None</td>\n",
       "      <td>60608</td>\n",
       "    </tr>\n",
       "    <tr>\n",
       "      <th>60609</th>\n",
       "      <td>1936년 7월, 오키나와현 교육위원회 부설 향토 박물관(沖縄県教育会附設郷土博物館)...</td>\n",
       "      <td>위키피디아</td>\n",
       "      <td>None</td>\n",
       "      <td>None</td>\n",
       "      <td>오키나와 현립 박물관·미술관</td>\n",
       "      <td>None</td>\n",
       "      <td>None</td>\n",
       "      <td>60609</td>\n",
       "    </tr>\n",
       "    <tr>\n",
       "      <th>60610</th>\n",
       "      <td>박물관은 개관 10주년이되는 2017년에 관의 애칭 및 마스코트를 일반인에게 공모했...</td>\n",
       "      <td>위키피디아</td>\n",
       "      <td>None</td>\n",
       "      <td>None</td>\n",
       "      <td>오키나와 현립 박물관·미술관</td>\n",
       "      <td>None</td>\n",
       "      <td>None</td>\n",
       "      <td>60610</td>\n",
       "    </tr>\n",
       "    <tr>\n",
       "      <th>60611</th>\n",
       "      <td>단결권 및 단체교섭권 협약(Right to Organise and Collectiv...</td>\n",
       "      <td>위키피디아</td>\n",
       "      <td>None</td>\n",
       "      <td>None</td>\n",
       "      <td>단결권 및 단체교섭권 협약</td>\n",
       "      <td>None</td>\n",
       "      <td>None</td>\n",
       "      <td>60611</td>\n",
       "    </tr>\n",
       "    <tr>\n",
       "      <th>60612</th>\n",
       "      <td>이 협약은 부당노동행위 제도를 규율하고 있다. 협약 제1조에서 반노동조합 차별행위로...</td>\n",
       "      <td>위키피디아</td>\n",
       "      <td>None</td>\n",
       "      <td>None</td>\n",
       "      <td>단결권 및 단체교섭권 협약</td>\n",
       "      <td>None</td>\n",
       "      <td>None</td>\n",
       "      <td>60612</td>\n",
       "    </tr>\n",
       "  </tbody>\n",
       "</table>\n",
       "<p>60613 rows × 8 columns</p>\n",
       "</div>"
      ],
      "text/plain": [
       "                                                    text corpus_source   url  \\\n",
       "0      이 문서는 나라 목록이며, 전 세계 206개 나라의 각 현황과 주권 승인 정보를 개...         위키피디아  TODO   \n",
       "1      이 목록에 실린 국가 기준은 1933년 몬테비데오 협약 1장을 참고로 하였다. 협정...         위키피디아  TODO   \n",
       "2      현 서울특별시 종로구 서린동 (구 일제 강점기 경기도 경성부 서린정) 출신이다. 친...         위키피디아  TODO   \n",
       "3      아오조라 문고(靑空文庫, あおぞらぶんこ|아오조라 분고)는 ‘일본어판 구텐베르크 프로...         위키피디아  TODO   \n",
       "4      저자 사망 이후 50년이 지나 저작권이 소멸한 메이지 시대부터 쇼와 시대 초기까지의...         위키피디아  TODO   \n",
       "...                                                  ...           ...   ...   \n",
       "60608  오키나와 현립 박물관·미술관( , Okinawa Prefectural Museum ...         위키피디아  None   \n",
       "60609  1936년 7월, 오키나와현 교육위원회 부설 향토 박물관(沖縄県教育会附設郷土博物館)...         위키피디아  None   \n",
       "60610  박물관은 개관 10주년이되는 2017년에 관의 애칭 및 마스코트를 일반인에게 공모했...         위키피디아  None   \n",
       "60611  단결권 및 단체교섭권 협약(Right to Organise and Collectiv...         위키피디아  None   \n",
       "60612  이 협약은 부당노동행위 제도를 규율하고 있다. 협약 제1조에서 반노동조합 차별행위로...         위키피디아  None   \n",
       "\n",
       "      domain            title author  html  document_id  \n",
       "0       None            나라 목록   None  None            0  \n",
       "1       None            나라 목록   None  None            1  \n",
       "2       None              백남준   None  None            2  \n",
       "3       None          아오조라 문고   None  None            3  \n",
       "4       None          아오조라 문고   None  None            4  \n",
       "...      ...              ...    ...   ...          ...  \n",
       "60608   None  오키나와 현립 박물관·미술관   None  None        60608  \n",
       "60609   None  오키나와 현립 박물관·미술관   None  None        60609  \n",
       "60610   None  오키나와 현립 박물관·미술관   None  None        60610  \n",
       "60611   None   단결권 및 단체교섭권 협약   None  None        60611  \n",
       "60612   None   단결권 및 단체교섭권 협약   None  None        60612  \n",
       "\n",
       "[60613 rows x 8 columns]"
      ]
     },
     "execution_count": 341,
     "metadata": {},
     "output_type": "execute_result"
    }
   ],
   "source": [
    "'''실제 processing code'''\n",
    "\n",
    "\n",
    "def find_string_in_text(df, search_string):\n",
    "    return df[df['text'].str.contains(search_string, na=False, regex=False)].index\n"
   ]
  },
  {
   "cell_type": "code",
   "execution_count": null,
   "metadata": {},
   "outputs": [],
   "source": [
    "# wiki_processed = wiki.copy()\n",
    "# text = '실제로 2020년 3월 5일 현재까지 단리된 SARS-CoV-2 균주 57개 중, 2019년 3월 5일 현재 단리 일시와 장소를 알 수 없는 UNKNOWN-LR757996 균주(Strain) , SARS-CoV-2/Hu/DP/Kng/19-027 균주 ; 2019년 12월 중국에서 단리된 Wuhan-Hu-1 균주 ; 2019년 12월 23일 최초로 중국에서 단리된 BetaCoV/Wuhan/IPBCAMS-WH-01/2019 균주 ; 2019년 12월 30일 중국에서 단리된 BetaCoV/Wuhan/IPBCAMS-WH-02/2019 균주 , '\n",
    "# index = find_string_in_text(wiki, text)\n",
    "# wiki_processed.loc[index, 'text'] = wiki_processed.loc[index, 'text'].str.replace(';', '.', regex=False)\n",
    "\n",
    "# text = '<정세운(鄭世雲)>'\n",
    "# index = find_string_in_text(wiki, text)\n",
    "# wiki_processed.loc[index[0], 'text'] = wiki_processed['text'].iloc[int(index[0])].split('<정세운(鄭世雲)>')[0] + text\n",
    "\n",
    "# text = '관직으로는 종친부(宗親府)의 군(君)·종정경(宗正卿), 충훈부'\n",
    "# index = find_string_in_text(wiki, text)\n",
    "# wiki_processed.loc[index, 'text'] = wiki_processed.loc[index, 'text'].str.replace('·', '. ', regex=False)\n",
    "\n",
    "# text = '2003년 ≪또야 너구리가 기운 바지를 입었어요≫(KBS 프로 [TV 책을 말하다] 좋은 어린이 책) ≪수업을 왜 하지?≫(문화관광부 추천도서) ≪땅콩 선생, 드디어'\n",
    "# index = find_string_in_text(wiki, text)\n",
    "# wiki_processed.loc[index, 'text'] = wiki_processed.loc[index, 'text'].str.replace('도서)', '도서). ', regex=False)\n",
    "\n",
    "# text = '과학기술과 전쟁(크레펠트), 군대 명령과 복종(니코 케이저), 군대문화 이야기(양희완), 군대와 사회(온만금), 군사사상론(군사학연구회), 군사전략입문(에체베리아), 군인(슈나이더), 군인과 국가(헌팅턴), 극한의 경험(유발 하라리), 근대국가와 전쟁(박상섭),'\n",
    "# index = find_string_in_text(wiki, text)\n",
    "# wiki_processed.loc[index, 'text'] = wiki_processed.loc[index, 'text'].str.replace('),', ').', regex=False)\n",
    "\n",
    "# text = '조선 개국 후 개국원종공신(開國原從功臣)이 되어 내사사인(內史舍人), 병조의랑(兵曹議郞), 세자우필선(世子右弼善), 사헌부 중승(司憲府 中丞), 판교서(判校書)'\n",
    "# index = find_string_in_text(wiki, text)\n",
    "# wiki_processed.loc[index, 'text'] = wiki_processed.loc[index, 'text'].str.replace(',', '.', regex=False)\n",
    "\n",
    "# text = '제1편인 설회인유편(設會因由篇)부터 엄정팔방편(嚴淨八方篇), 주향통서편(呪香通序篇'\n",
    "# index = find_string_in_text(wiki, text)\n",
    "# wiki_processed.loc[index, 'text'] = wiki_processed.loc[index, 'text'].str.replace(',', '.', regex=False)\n",
    "\n",
    "# text = '같은 시기에 사용된 다른 연호로는 동진(東晉)에서 사용한 융안(隆安 : 397년 ~ 401년), 원흥(元興 : 402년 ~ 404년), 대형'\n",
    "# index = find_string_in_text(wiki, text)\n",
    "# wiki_processed.loc[index, 'text'] = wiki_processed.loc[index, 'text'].str.replace(',', '.', regex=False)\n",
    "\n",
    "# text = '곡룡류인 아노돈토사우루스(Anodontosaurus lambei), 에드몬토니아(Edmontoni'\n",
    "# index = find_string_in_text(wiki, text)\n",
    "# wiki_processed.loc[index, 'text'] = wiki_processed.loc[index, 'text'].str.replace(',', '.', regex=False)\n",
    "\n",
    "# text = '같은 시기에 사용된 다른 연호로는 동진(東晉)에서 사용한 의희(義熙 : 405년 ~ 418년), 원희(原熙 : 419년 ~ 420년), 후진(後秦)에서 사용'\n",
    "# index = find_string_in_text(wiki, text)\n",
    "# wiki_processed.loc[index, 'text'] = wiki_processed.loc[index, 'text'].str.replace(',', '.', regex=False)\n",
    "\n",
    "# text = '주화산(금남정맥 분리)-모래재-곰티(익산포항고속국도 통과)-슬치(순천완주고속국도, 국도 제17호선, 전라선 철도 통과)-갈미봉(540m)'\n",
    "# index = find_string_in_text(wiki, text)\n",
    "# wiki_processed.loc[index, 'text'] = wiki_processed.loc[index, 'text'].str.replace('-', '. ', regex=False)\n",
    "\n",
    "# text = '《일본서기》(日本書紀)에는 덴무 천황 13년인 서기 684년'\n",
    "# index = find_string_in_text(wiki, text)\n",
    "# wiki_processed.loc[index, 'text'] = wiki_processed.loc[index, 'text'].str.replace('、', '. ', regex=False)\n",
    "\n",
    "# text = '이와 더불어  故 고우영 작가의 만화를 원작으로 한  애니메이션 《삼국지》'\n",
    "# index = find_string_in_text(wiki, text)\n",
    "# wiki_processed.loc[index, 'text'] = wiki_processed.loc[index, 'text'].str.replace('》', '. ', regex=False)\n",
    "\n",
    "# text = '재미 한인사회 간에 주미외교위원부 문제를 중심으로 분규가 자못 심함으로 1944년 5월 15일 국무회의에서 정·부주석과 외무,'\n",
    "# index = find_string_in_text(wiki, text)\n",
    "# wiki_processed.loc[index, 'text'] = wiki_processed.loc[index, 'text'].str.replace('하야', '하야. ', regex=False)\n",
    "\n",
    "# text = '또한 궁예가 지향했던 불교와 석총의 불교가 같은 법상종 계열이면서도 궁예는 아미타불, 관음보살 중심이었던 데 반해서 석총은 미륵보살'\n",
    "# index = find_string_in_text(wiki, text)\n",
    "# wiki_processed.loc[index, 'text'] = wiki_processed.loc[index, 'text'].str.replace('가만히 보고 있을 수 없었을 것이고,', '가만히 보고 있을 수 없었을 것이고. ', regex=False)\n",
    "\n",
    "# text = '스카웃은 게임에서 정말 빠른 클래스이지만, 데미지를 주고 받는게 힘들다.스카웃은 마름쇠로 장전하고 발사하는 못총과 스턴을 멈추고 적을'\n",
    "# index = find_string_in_text(wiki, text)\n",
    "# wiki_processed.loc[index, 'text'] = wiki_processed.loc[index, 'text'].str.replace('.', '. ', regex=False)\n",
    "\n",
    "# text = '구단주는 우장룡총경리가 담당했다《연변직업축구의 어버이》'\n",
    "# index = find_string_in_text(wiki, text)\n",
    "# wiki_processed.loc[index, 'text'] = wiki_processed.loc[index, 'text'].str.replace('.', '. ', regex=False)"
   ]
  },
  {
   "cell_type": "code",
   "execution_count": 377,
   "metadata": {},
   "outputs": [],
   "source": [
    "# load wikipedia_documents_processed.json\n",
    "wiki_processed = pd.read_json('../data/preprocessed/wikipedia_documents_processed.json', orient='index')\n",
    "\n",
    "from sentence_transformers import SentenceTransformer\n",
    "\n",
    "model_name = \"nlpai-lab/KoE5\"\n",
    "model = SentenceTransformer(\n",
    "    model_name_or_path=model_name, \n",
    "    )\n",
    "tokenizer = model.tokenizer\n",
    "max_seq_length = min(model.max_seq_length, model[0].auto_model.config.max_position_embeddings)  # 최대 시퀀스 길이"
   ]
  },
  {
   "cell_type": "code",
   "execution_count": 378,
   "metadata": {},
   "outputs": [
    {
     "name": "stderr",
     "output_type": "stream",
     "text": [
      "100%|██████████| 56808/56808 [00:04<00:00, 12759.81it/s]\n",
      "100%|██████████| 56808/56808 [01:40<00:00, 567.74it/s]\n"
     ]
    },
    {
     "name": "stdout",
     "output_type": "stream",
     "text": [
      "count    56808.000000\n",
      "mean        78.424271\n",
      "std         37.887338\n",
      "min          7.000000\n",
      "25%         56.000000\n",
      "50%         70.000000\n",
      "75%         91.000000\n",
      "max        507.000000\n",
      "Name: context_sentences_token_len_max, dtype: float64\n"
     ]
    },
    {
     "data": {
      "text/html": [
       "<div>\n",
       "<style scoped>\n",
       "    .dataframe tbody tr th:only-of-type {\n",
       "        vertical-align: middle;\n",
       "    }\n",
       "\n",
       "    .dataframe tbody tr th {\n",
       "        vertical-align: top;\n",
       "    }\n",
       "\n",
       "    .dataframe thead th {\n",
       "        text-align: right;\n",
       "    }\n",
       "</style>\n",
       "<table border=\"1\" class=\"dataframe\">\n",
       "  <thead>\n",
       "    <tr style=\"text-align: right;\">\n",
       "      <th></th>\n",
       "      <th>text</th>\n",
       "      <th>corpus_source</th>\n",
       "      <th>url</th>\n",
       "      <th>domain</th>\n",
       "      <th>title</th>\n",
       "      <th>author</th>\n",
       "      <th>html</th>\n",
       "      <th>document_id</th>\n",
       "      <th>context_sentences</th>\n",
       "      <th>context_sentences_token_len_max</th>\n",
       "    </tr>\n",
       "  </thead>\n",
       "  <tbody>\n",
       "  </tbody>\n",
       "</table>\n",
       "</div>"
      ],
      "text/plain": [
       "Empty DataFrame\n",
       "Columns: [text, corpus_source, url, domain, title, author, html, document_id, context_sentences, context_sentences_token_len_max]\n",
       "Index: []"
      ]
     },
     "execution_count": 378,
     "metadata": {},
     "output_type": "execute_result"
    }
   ],
   "source": [
    "df = check_token_length(wiki_processed, tokenizer, max_seq_length)\n",
    "df"
   ]
  },
  {
   "cell_type": "code",
   "execution_count": 376,
   "metadata": {},
   "outputs": [
    {
     "data": {
      "text/plain": [
       "(0, 10)"
      ]
     },
     "execution_count": 376,
     "metadata": {},
     "output_type": "execute_result"
    }
   ],
   "source": [
    "df.shape"
   ]
  },
  {
   "cell_type": "code",
   "execution_count": 371,
   "metadata": {},
   "outputs": [
    {
     "name": "stdout",
     "output_type": "stream",
     "text": [
      "570\n",
      "'《일본서기》(日本書紀)에는 덴무 천황 13년인 서기 684년 음력 11월 1일에 처음으로 아손을 하사받은 52개의 우지로써 오미와 씨(大三輪氏)、오카스가 씨(大春日氏)、아베 씨(阿倍氏)、고세 씨(巨瀬氏)、가시와데 씨(膳氏)、기 씨(紀氏)、하타 씨(波多氏)、모노노베 씨(物部氏)、헤구리 씨(平群氏)、사사베 씨(雀部氏)、나카토미 씨(中臣氏)、오야케 씨(大宅氏)、구리타 씨(粟田氏)、이시카와 씨(石川氏)、사쿠라이 씨(桜井氏)、우네메 씨(采女氏)、다나카 씨(田中氏)、오하리다 씨(小墾田氏)、호즈미 씨(穂積氏)、야마시로 씨(山背氏)、가모 씨(鴨氏)、오노 씨(小野氏)、가와노베 씨(川辺氏)、도쓰이 씨(櫟井氏)、가키노모토 씨(柿本氏)、가루베 씨(軽部氏)、와카사쿠라베 씨(若桜部氏)、기시다 씨(岸田氏)、다카무코 씨(高向氏)、시시히토 씨(宍人氏)、구메 씨(来目氏)、이누가미 씨(犬上氏)、가미쓰케누 씨(上毛野氏)、쓰노 씨(角氏)、호시카와 씨(星川氏)、오오 씨(多氏)、무네카타 씨(胸方氏)、구라모치 씨(車持氏)、아야 씨(綾氏)、시모쓰미치 씨(下道氏)、이가 씨(伊賀氏)、아쓰지 씨(阿閉氏)、하야시 씨(林氏)、나미야 씨(波弥氏)、시모쓰케 씨(下毛野氏)、사미 씨(佐味氏)、미치모리 씨(道守氏)、오노 씨(大野氏)、사카모토 씨(坂本氏)、이케다 씨(池田氏)、다마테 씨(玉手氏)、가사 씨(笠氏)가 기록되어 있다.'\n",
      "****************************************************************************************************\n",
      "['▁《', '일본', '서', '기', '》(', '日本', '書', '紀', ')', '에는', '▁', '덴', '무', '▁천', '황', '▁13', '년', '인', '▁서', '기', '▁', '684', '년', '▁음', '력', '▁11', '월', '▁1', '일에', '▁처음으로', '▁아', '손', '을', '▁하', '사', '받', '은', '▁52', '개의', '▁우', '지로', '써', '▁오', '미', '와', '▁씨', '(', '大', '三', '輪', '氏', ')', '、', '오', '카', '스가', '▁씨', '(', '大', '春', '日', '氏', ')', '、', '아', '베', '▁씨', '(', '阿', '倍', '氏', ')', '、', '고', '세', '▁씨', '(', '巨', '瀬', '氏', ')', '、', '가', '시', '와', '데', '▁씨', '(', '膳', '氏', ')', '、', '기', '▁씨', '(', '紀', '氏', ')', '、', '하', '타', '▁씨', '(', '波', '多', '氏', ')', '、', '모', '노', '노', '베', '▁씨', '(', '物', '部', '氏', ')', '、', '헤', '구리', '▁씨', '(', '平', '群', '氏', ')', '、', '사', '사', '베', '▁씨', '(', '雀', '部', '氏', ')', '、', '나', '카', '토', '미', '▁씨', '(', '中', '臣', '氏', ')', '、', '오', '야', '케', '▁씨', '(', '大', '宅', '氏', ')', '、', '구리', '타', '▁씨', '(', '粟', '田', '氏', ')', '、', '이', '시', '카', '와', '▁씨', '(', '石', '川', '氏', ')', '、', '사', '쿠', '라이', '▁씨', '(', '桜', '井', '氏', ')', '、', '우', '네', '메', '▁씨', '(', '采', '女', '氏', ')', '、', '다', '나', '카', '▁씨', '(', '田', '中', '氏', ')', '、', '오', '하', '리', '다', '▁씨', '(', '小', '墾', '田', '氏', ')', '、', '호', '즈', '미', '▁씨', '(', '穂', '積', '氏', ')', '、', '야', '마', '시', '로', '▁씨', '(', '山', '背', '氏', ')', '、', '가', '모', '▁씨', '(', '鴨', '氏', ')', '、', '오', '노', '▁씨', '(', '小', '野', '氏', ')', '、', '가', '와', '노', '베', '▁씨', '(', '川', '辺', '氏', ')', '、', '도', '쓰', '이', '▁씨', '(', '櫟', '井', '氏', ')', '、', '가', '키', '노', '모', '토', '▁씨', '(', '柿', '本', '氏', ')', '、', '가', '루', '베', '▁씨', '(', '軽', '部', '氏', ')', '、', '와', '카', '사', '쿠', '라', '베', '▁씨', '(', '若', '桜', '部', '氏', ')', '、', '기', '시다', '▁씨', '(', '岸', '田', '氏', ')', '、', '다', '카', '무', '코', '▁씨', '(', '高', '向', '氏', ')', '、', '시', '시', '히', '토', '▁씨', '(', '宍', '人', '氏', ')', '、', '구', '메', '▁씨', '(', '来', '目', '氏', ')', '、', '이', '누', '가', '미', '▁씨', '(', '犬', '上', '氏', ')', '、', '가', '미', '쓰', '케', '누', '▁씨', '(', '上', '毛', '野', '氏', ')', '、', '쓰', '노', '▁씨', '(', '角', '氏', ')', '、', '호', '시', '카', '와', '▁씨', '(', '星', '川', '氏', ')', '、', '오', '오', '▁씨', '(', '多', '氏', ')', '、', '무', '네', '카', '타', '▁씨', '(', '胸', '方', '氏', ')', '、', '구', '라', '모', '치', '▁씨', '(', '車', '持', '氏', ')', '、', '아야', '▁씨', '(', '綾', '氏', ')', '、', '시', '모', '쓰', '미', '치', '▁씨', '(', '下', '道', '氏', ')', '、', '이', '가', '▁씨', '(', '伊', '賀', '氏', ')', '、', '아', '쓰', '지', '▁씨', '(', '阿', '閉', '氏', ')', '、', '하', '야', '시', '▁씨', '(', '林', '氏', ')', '、', '나', '미', '야', '▁씨', '(', '波', '弥', '氏', ')', '、', '시', '모', '쓰', '케', '▁씨', '(', '下', '毛', '野', '氏', ')', '、', '사', '미', '▁씨', '(', '佐', '味', '氏', ')', '、', '미', '치', '모', '리', '▁씨', '(', '道', '守', '氏', ')', '、', '오', '노', '▁씨', '(', '大', '野', '氏', ')', '、', '사', '카', '모', '토', '▁씨', '(', '坂', '本', '氏', ')', '、', '이', '케', '다', '▁씨', '(', '池', '田', '氏', ')', '、', '다', '마', '테', '▁씨', '(', '玉', '手', '氏', ')', '、', '가', '사', '▁씨', '(', '笠', '氏', ')', '가', '▁기록', '되어', '▁있다', '.']\n",
      "****************************************************************************************************\n",
      "《일본서기》(日本書紀)에는 덴무 천황 13년인 서기 684년 음력 11월 1일에 처음으로 아손을 하사받은 52개의 우지로써 오미와 씨(大三輪氏)、오카스가 씨(大春日氏)、아베 씨(阿倍氏)、고세 씨(巨瀬氏)、가시와데 씨(膳氏)、기 씨(紀氏)、하타 씨(波多氏)、모노노베 씨(物部氏)、헤구리 씨(平群氏)、사사베 씨(雀部氏)、나카토미 씨(中臣氏)、오야케 씨(大宅氏)、구리타 씨(粟田氏)、이시카와 씨(石川氏)、사쿠라이 씨(桜井氏)、우네메 씨(采女氏)、다나카 씨(田中氏)、오하리다 씨(小墾田氏)、호즈미 씨(穂積氏)、야마시로 씨(山背氏)、가모 씨(鴨氏)、오노 씨(小野氏)、가와노베 씨(川辺氏)、도쓰이 씨(櫟井氏)、가키노모토 씨(柿本氏)、가루베 씨(軽部氏)、와카사쿠라베 씨(若桜部氏)、기시다 씨(岸田氏)、다카무코 씨(高向氏)、시시히토 씨(宍人氏)、구메 씨(来目氏)、이누가미 씨(犬上氏)、가미쓰케누 씨(上毛野氏)、쓰노 씨(角氏)、호시카와 씨(星川氏)、오오 씨(多氏)、무네카타 씨(胸方氏)、구라모치 씨(車持氏)、아야 씨(綾氏)、시모쓰미치 씨(下道氏)、이가 씨(伊賀氏)、아쓰지 씨(阿閉氏)、하야시 씨(林氏)、나미야 씨(波弥氏)、시모쓰케 씨(下毛野氏)、사미 씨(佐味氏)、미치모리 씨(道守氏)、오노 씨(大野氏)、사카모토 씨(坂本氏)、이케다 씨(池田氏)、다마테 씨(玉手氏)、가사 씨(笠氏)가 기록되어 있다.\n",
      "ss: 1\n",
      "['《일본서기》(日本書紀)에는 덴무 천황 13년인 서기 684년 음력 11월 1일에 처음으로 아손을 하사받은 52개의 우지로써 오미와 씨(大三輪氏)、오카스가 씨(大春日氏)、아베 씨(阿倍氏)、고세 씨(巨瀬氏)、가시와데 씨(膳氏)、기 씨(紀氏)、하타 씨(波多氏)、모노노베 씨(物部氏)、헤구리 씨(平群氏)、사사베 씨(雀部氏)、나카토미 씨(中臣氏)、오야케 씨(大宅氏)、구리타 씨(粟田氏)、이시카와 씨(石川氏)、사쿠라이 씨(桜井氏)、우네메 씨(采女氏)、다나카 씨(田中氏)、오하리다 씨(小墾田氏)、호즈미 씨(穂積氏)、야마시로 씨(山背氏)、가모 씨(鴨氏)、오노 씨(小野氏)、가와노베 씨(川辺氏)、도쓰이 씨(櫟井氏)、가키노모토 씨(柿本氏)、가루베 씨(軽部氏)、와카사쿠라베 씨(若桜部氏)、기시다 씨(岸田氏)、다카무코 씨(高向氏)、시시히토 씨(宍人氏)、구메 씨(来目氏)、이누가미 씨(犬上氏)、가미쓰케누 씨(上毛野氏)、쓰노 씨(角氏)、호시카와 씨(星川氏)、오오 씨(多氏)、무네카타 씨(胸方氏)、구라모치 씨(車持氏)、아야 씨(綾氏)、시모쓰미치 씨(下道氏)、이가 씨(伊賀氏)、아쓰지 씨(阿閉氏)、하야시 씨(林氏)、나미야 씨(波弥氏)、시모쓰케 씨(下毛野氏)、사미 씨(佐味氏)、미치모리 씨(道守氏)、오노 씨(大野氏)、사카모토 씨(坂本氏)、이케다 씨(池田氏)、다마테 씨(玉手氏)、가사 씨(笠氏)가 기록되어 있다.']\n"
     ]
    }
   ],
   "source": [
    "x = 1\n",
    "ss = see_long_sentence(df, tokenizer, x)\n",
    "print(f'ss: {len(ss)}')\n",
    "# s = ss[0]\n",
    "# print(sentence_split(s))"
   ]
  },
  {
   "cell_type": "code",
   "execution_count": 374,
   "metadata": {},
   "outputs": [
    {
     "name": "stdout",
     "output_type": "stream",
     "text": [
      "index: Index([59471], dtype='int64')\n",
      "****************************************************************************************************\n"
     ]
    },
    {
     "ename": "IndexError",
     "evalue": "single positional indexer is out-of-bounds",
     "output_type": "error",
     "traceback": [
      "\u001b[0;31m---------------------------------------------------------------------------\u001b[0m",
      "\u001b[0;31mIndexError\u001b[0m                                Traceback (most recent call last)",
      "Cell \u001b[0;32mIn[374], line 8\u001b[0m\n\u001b[1;32m      6\u001b[0m \u001b[38;5;28mprint\u001b[39m(\u001b[38;5;124mf\u001b[39m\u001b[38;5;124m'\u001b[39m\u001b[38;5;124mindex: \u001b[39m\u001b[38;5;132;01m{\u001b[39;00mindex\u001b[38;5;132;01m}\u001b[39;00m\u001b[38;5;124m'\u001b[39m)\n\u001b[1;32m      7\u001b[0m \u001b[38;5;28mprint\u001b[39m(\u001b[38;5;124m'\u001b[39m\u001b[38;5;124m*\u001b[39m\u001b[38;5;124m'\u001b[39m\u001b[38;5;241m*\u001b[39m\u001b[38;5;241m100\u001b[39m)\n\u001b[0;32m----> 8\u001b[0m \u001b[38;5;28mprint\u001b[39m(\u001b[43mwiki_processed\u001b[49m\u001b[38;5;241;43m.\u001b[39;49m\u001b[43miloc\u001b[49m\u001b[43m[\u001b[49m\u001b[38;5;28;43mint\u001b[39;49m\u001b[43m(\u001b[49m\u001b[43mindex\u001b[49m\u001b[43m[\u001b[49m\u001b[43mi\u001b[49m\u001b[43m]\u001b[49m\u001b[43m)\u001b[49m\u001b[43m]\u001b[49m[\u001b[38;5;124m'\u001b[39m\u001b[38;5;124mtext\u001b[39m\u001b[38;5;124m'\u001b[39m])\n\u001b[1;32m      9\u001b[0m \u001b[38;5;28mprint\u001b[39m(\u001b[38;5;124m'\u001b[39m\u001b[38;5;124m*\u001b[39m\u001b[38;5;124m'\u001b[39m\u001b[38;5;241m*\u001b[39m\u001b[38;5;241m100\u001b[39m)\n\u001b[1;32m     10\u001b[0m \u001b[38;5;28mprint\u001b[39m(wiki_processed\u001b[38;5;241m.\u001b[39miloc[\u001b[38;5;28mint\u001b[39m(index[i])][\u001b[38;5;124m'\u001b[39m\u001b[38;5;124mtext\u001b[39m\u001b[38;5;124m'\u001b[39m])\n",
      "File \u001b[0;32m/opt/conda/envs/llm/lib/python3.11/site-packages/pandas/core/indexing.py:1191\u001b[0m, in \u001b[0;36m_LocationIndexer.__getitem__\u001b[0;34m(self, key)\u001b[0m\n\u001b[1;32m   1189\u001b[0m maybe_callable \u001b[38;5;241m=\u001b[39m com\u001b[38;5;241m.\u001b[39mapply_if_callable(key, \u001b[38;5;28mself\u001b[39m\u001b[38;5;241m.\u001b[39mobj)\n\u001b[1;32m   1190\u001b[0m maybe_callable \u001b[38;5;241m=\u001b[39m \u001b[38;5;28mself\u001b[39m\u001b[38;5;241m.\u001b[39m_check_deprecated_callable_usage(key, maybe_callable)\n\u001b[0;32m-> 1191\u001b[0m \u001b[38;5;28;01mreturn\u001b[39;00m \u001b[38;5;28;43mself\u001b[39;49m\u001b[38;5;241;43m.\u001b[39;49m\u001b[43m_getitem_axis\u001b[49m\u001b[43m(\u001b[49m\u001b[43mmaybe_callable\u001b[49m\u001b[43m,\u001b[49m\u001b[43m \u001b[49m\u001b[43maxis\u001b[49m\u001b[38;5;241;43m=\u001b[39;49m\u001b[43maxis\u001b[49m\u001b[43m)\u001b[49m\n",
      "File \u001b[0;32m/opt/conda/envs/llm/lib/python3.11/site-packages/pandas/core/indexing.py:1752\u001b[0m, in \u001b[0;36m_iLocIndexer._getitem_axis\u001b[0;34m(self, key, axis)\u001b[0m\n\u001b[1;32m   1749\u001b[0m     \u001b[38;5;28;01mraise\u001b[39;00m \u001b[38;5;167;01mTypeError\u001b[39;00m(\u001b[38;5;124m\"\u001b[39m\u001b[38;5;124mCannot index by location index with a non-integer key\u001b[39m\u001b[38;5;124m\"\u001b[39m)\n\u001b[1;32m   1751\u001b[0m \u001b[38;5;66;03m# validate the location\u001b[39;00m\n\u001b[0;32m-> 1752\u001b[0m \u001b[38;5;28;43mself\u001b[39;49m\u001b[38;5;241;43m.\u001b[39;49m\u001b[43m_validate_integer\u001b[49m\u001b[43m(\u001b[49m\u001b[43mkey\u001b[49m\u001b[43m,\u001b[49m\u001b[43m \u001b[49m\u001b[43maxis\u001b[49m\u001b[43m)\u001b[49m\n\u001b[1;32m   1754\u001b[0m \u001b[38;5;28;01mreturn\u001b[39;00m \u001b[38;5;28mself\u001b[39m\u001b[38;5;241m.\u001b[39mobj\u001b[38;5;241m.\u001b[39m_ixs(key, axis\u001b[38;5;241m=\u001b[39maxis)\n",
      "File \u001b[0;32m/opt/conda/envs/llm/lib/python3.11/site-packages/pandas/core/indexing.py:1685\u001b[0m, in \u001b[0;36m_iLocIndexer._validate_integer\u001b[0;34m(self, key, axis)\u001b[0m\n\u001b[1;32m   1683\u001b[0m len_axis \u001b[38;5;241m=\u001b[39m \u001b[38;5;28mlen\u001b[39m(\u001b[38;5;28mself\u001b[39m\u001b[38;5;241m.\u001b[39mobj\u001b[38;5;241m.\u001b[39m_get_axis(axis))\n\u001b[1;32m   1684\u001b[0m \u001b[38;5;28;01mif\u001b[39;00m key \u001b[38;5;241m>\u001b[39m\u001b[38;5;241m=\u001b[39m len_axis \u001b[38;5;129;01mor\u001b[39;00m key \u001b[38;5;241m<\u001b[39m \u001b[38;5;241m-\u001b[39mlen_axis:\n\u001b[0;32m-> 1685\u001b[0m     \u001b[38;5;28;01mraise\u001b[39;00m \u001b[38;5;167;01mIndexError\u001b[39;00m(\u001b[38;5;124m\"\u001b[39m\u001b[38;5;124msingle positional indexer is out-of-bounds\u001b[39m\u001b[38;5;124m\"\u001b[39m)\n",
      "\u001b[0;31mIndexError\u001b[0m: single positional indexer is out-of-bounds"
     ]
    }
   ],
   "source": [
    "i = 0\n",
    "text = '《일본서기》(日本書紀)에는 덴무 천황 13년인 서기 684년 음력 11월 1일에 처음으로 아손을 하사받은 52개의 우지로써'\n",
    "index = find_string_in_text(wiki_processed, text)\n",
    "wiki_processed.loc[index, 'text'] = wiki_processed.loc[index, 'text'].str.replace('、', '. ', regex=False)\n",
    "# wiki_processed.loc[index[0], 'text'] = wiki_processed['text'].iloc[int(index[i])].split('<정세운(鄭世雲)>')[0] + text\n",
    "print(f'index: {index}')\n",
    "print('*'*100)\n",
    "print(wiki_processed.iloc[int(index[i])]['text'])\n",
    "print('*'*100)\n",
    "print(wiki_processed.iloc[int(index[i])]['text'])\n",
    "print('*'*100)\n",
    "\n",
    "print()\n",
    "print('check long sentence:')\n",
    "splited = sentence_split(wiki_processed.iloc[int(index[i])]['text'])\n",
    "flag = False\n",
    "for s in splited:\n",
    "    tokenized = tokenizer.tokenize(s)\n",
    "    # print(f'{len(tokenized)} : {s}')\n",
    "    if len(tokenized) > max_seq_length:\n",
    "        print(f'{len(tokenized)} : {s}')\n",
    "        flag = True\n",
    "if not flag:\n",
    "    print('no long sentence')"
   ]
  }
 ],
 "metadata": {
  "kernelspec": {
   "display_name": "llm",
   "language": "python",
   "name": "python3"
  },
  "language_info": {
   "codemirror_mode": {
    "name": "ipython",
    "version": 3
   },
   "file_extension": ".py",
   "mimetype": "text/x-python",
   "name": "python",
   "nbconvert_exporter": "python",
   "pygments_lexer": "ipython3",
   "version": "3.11.10"
  }
 },
 "nbformat": 4,
 "nbformat_minor": 2
}
