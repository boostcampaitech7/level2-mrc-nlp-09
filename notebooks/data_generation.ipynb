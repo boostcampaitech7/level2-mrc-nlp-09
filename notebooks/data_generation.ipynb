{
 "cells": [
  {
   "cell_type": "markdown",
   "metadata": {},
   "source": [
    "### Data Processing - Merge Generation Answer"
   ]
  },
  {
   "cell_type": "code",
   "execution_count": null,
   "metadata": {},
   "outputs": [],
   "source": [
    "import json\n",
    "\n",
    "file_path = '/data/ephemeral/home/jeongeun3/test.json'\n",
    "\n",
    "with open(file_path, 'r', encoding='utf-8') as file:\n",
    "    data = json.load(file)\n",
    "\n",
    "extracted_data = {key: [value[0]] for key, value in data.items()}\n",
    "\n",
    "# Save the extracted data to a new JSON file\n",
    "with open('extracted_data.json', 'w', encoding='utf-8') as f:\n",
    "    json.dump(extracted_data, f, ensure_ascii=False, indent=4)"
   ]
  },
  {
   "cell_type": "code",
   "execution_count": null,
   "metadata": {},
   "outputs": [],
   "source": [
    "extracted_data = {\n",
    "    key: {\n",
    "        \"text\": value[0][\"text\"],\n",
    "        \"question\": value[0][\"question\"],\n",
    "        \"context\": value[0][\"context\"]\n",
    "    }\n",
    "    for key, value in data.items()\n",
    "}\n",
    "\n",
    "# Saving to a JSON file\n",
    "with open('extracted_data.json', 'w', encoding='utf-8') as f:\n",
    "    json.dump(extracted_data, f, ensure_ascii=False, indent=4)"
   ]
  },
  {
   "cell_type": "code",
   "execution_count": null,
   "metadata": {},
   "outputs": [],
   "source": [
    "import json\n",
    "\n",
    "# JSON 데이터 파일 경로\n",
    "file_path = '/data/ephemeral/home/jeongeun3/extracted_data.json'\n",
    "\n",
    "# JSON 파일 열기 및 데이터 로드\n",
    "with open(file_path, 'r', encoding='utf-8') as file:\n",
    "    data = json.load(file)\n",
    "\n",
    "# 총 데이터 수 세기\n",
    "total_count = len(data)\n",
    "\n",
    "print(f\"총 데이터 수: {total_count}\")"
   ]
  },
  {
   "cell_type": "code",
   "execution_count": null,
   "metadata": {},
   "outputs": [],
   "source": [
    "import json\n",
    "\n",
    "# 파일 경로\n",
    "file1_path = '/data/ephemeral/home/jeongeun3/new_answers.json'\n",
    "file2_path = '/data/ephemeral/home/jeongeun3/input/checkpoint/ST_Ensemble_03/nbest_predictions_test.json'\n",
    "output_path = '/data/ephemeral/home/jeongeun3/merged_answers.json'\n",
    "\n",
    "# 첫 번째 파일 읽기\n",
    "with open(file1_path, 'r') as file1:\n",
    "    data1 = json.load(file1)\n",
    "\n",
    "# 두 번째 파일 읽기\n",
    "with open(file2_path, 'r') as file2:\n",
    "    data2 = json.load(file2)\n",
    "\n",
    "# 앞의 300개 데이터 추출\n",
    "data1_subset = {k: data1[k] for k in list(data1)[:300]}\n",
    "\n",
    "# 뒤의 300개 데이터 추출\n",
    "data2_subset = {k: data2[k] for k in list(data2)[-300:]}\n",
    "\n",
    "# 두 데이터를 합치기\n",
    "merged_data = {**data1_subset, **data2_subset}\n",
    "\n",
    "# 결과를 새로운 JSON 파일로 저장\n",
    "with open(output_path, 'w') as output_file:\n",
    "    json.dump(merged_data, output_file, indent=4)"
   ]
  }
 ],
 "metadata": {
  "kernelspec": {
   "display_name": "Python 3",
   "language": "python",
   "name": "python3"
  },
  "language_info": {
   "name": "python",
   "version": "3.8.10"
  }
 },
 "nbformat": 4,
 "nbformat_minor": 2
}
