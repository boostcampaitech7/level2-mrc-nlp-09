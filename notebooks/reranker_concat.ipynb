{
 "cells": [
  {
   "cell_type": "code",
   "execution_count": 16,
   "metadata": {},
   "outputs": [],
   "source": [
    "import pandas as pd\n",
    "\n",
    "original = pd.read_csv('../data/pipeline/test_BM25Ensemble_top100_original.csv')\n",
    "\n",
    "df2 = pd.read_csv('../data/pipeline/test_BM25Ensemble_top45_bge_reranker_2.csv')\n",
    "df200_250 = pd.read_csv('../data/pipeline/test_BM25Ensemble_top45_bge_reranker_200_250.csv')\n",
    "df250_300 = pd.read_csv('../data/pipeline/test_BM25Ensemble_top45_bge_reranker_250_300.csv')\n",
    "df300_350 = pd.read_csv('../data/pipeline/test_BM25Ensemble_top45_bge_reranker_300_350.csv')\n",
    "df350_400 = pd.read_csv('../data/pipeline/test_BM25Ensemble_top45_bge_reranker_350_400.csv')\n",
    "\n",
    "df400_450 = pd.read_csv('../data/pipeline/test_BM25Ensemble_top45_bge_reranker_400_450.csv') # 84퍼\n",
    "# df450_500 = pd.read_csv('../data/pipeline/test_BM25Ensemble_top45_bge_reranker_450_500.csv') # 1퍼\n",
    "df500_550 = pd.read_csv('../data/pipeline/test_BM25Ensemble_top45_bge_reranker_500_550.csv') # 완성\n",
    "df550_600 = pd.read_csv('../data/pipeline/test_BM25Ensemble_top45_bge_reranker_550_600.csv') # 완성"
   ]
  },
  {
   "cell_type": "code",
   "execution_count": 7,
   "metadata": {},
   "outputs": [
    {
     "data": {
      "text/plain": [
       "400"
      ]
     },
     "execution_count": 7,
     "metadata": {},
     "output_type": "execute_result"
    }
   ],
   "source": [
    "df2.shape, df200_250.shape, df250_300.shape, df300_350.shape, df350_400.shape\n",
    "df2.shape[0]+df200_250.shape[0]+df250_300.shape[0]+df300_350.shape[0]+df350_400.shape[0]"
   ]
  },
  {
   "cell_type": "code",
   "execution_count": 17,
   "metadata": {},
   "outputs": [
    {
     "data": {
      "text/plain": [
       "(50, 102)"
      ]
     },
     "execution_count": 17,
     "metadata": {},
     "output_type": "execute_result"
    }
   ],
   "source": [
    "original450_500 = original[450:500]\n",
    "original450_500.shape"
   ]
  },
  {
   "cell_type": "code",
   "execution_count": 25,
   "metadata": {},
   "outputs": [
    {
     "name": "stdout",
     "output_type": "stream",
     "text": [
      "concat shape: (600, 102)\n",
      "True\n",
      "check id: True\n"
     ]
    }
   ],
   "source": [
    "concat = pd.concat([df2, df200_250, df250_300, df300_350, df350_400, df400_450, original450_500, df500_550, df550_600], axis=0)\n",
    "print(f'concat shape: {concat.shape}')\n",
    "concat_id = concat['id'].tolist()\n",
    "original_id = original['id'].tolist()\n",
    "print(concat_id == original_id)\n",
    "print(f'check id: {concat_id == original_id}')\n",
    "\n",
    "# concat.to_csv('../data/pipeline/reranker_550.csv', index=False)"
   ]
  },
  {
   "cell_type": "code",
   "execution_count": 30,
   "metadata": {},
   "outputs": [
    {
     "name": "stdout",
     "output_type": "stream",
     "text": [
      "concat shape: (600, 47)\n",
      "True\n",
      "check id: True\n"
     ]
    }
   ],
   "source": [
    "df450_500 = pd.read_csv('../data/pipeline/test_BM25Ensemble_top45_bge_reranker_450_500.csv') # 1퍼\n",
    "\n",
    "concat = pd.concat([df2, df200_250, df250_300, df300_350, df350_400, df400_450, df450_500, df500_550, df550_600], axis=0)\n",
    "print(f'concat shape: {concat.shape}')\n",
    "concat_id = concat['id'].tolist()\n",
    "original_id = original['id'].tolist()\n",
    "print(concat_id == original_id)\n",
    "print(f'check id: {concat_id == original_id}')\n",
    "\n",
    "concat.to_csv('../data/pipeline/reranker_final.csv', index=False)"
   ]
  },
  {
   "cell_type": "code",
   "execution_count": 33,
   "metadata": {},
   "outputs": [
    {
     "name": "stdout",
     "output_type": "stream",
     "text": [
      "True\n"
     ]
    }
   ],
   "source": [
    "final = pd.read_csv('../data/pipeline/reranker_final.csv')\n"
   ]
  },
  {
   "cell_type": "code",
   "execution_count": 34,
   "metadata": {},
   "outputs": [
    {
     "name": "stdout",
     "output_type": "stream",
     "text": [
      "True\n",
      "True\n"
     ]
    }
   ],
   "source": [
    "final_id = final['id'].tolist()\n",
    "original_id = original['id'].tolist()\n",
    "print(final_id == original_id)\n",
    "\n",
    "final_question = final['question'].tolist()\n",
    "original_question = original['question'].tolist()\n",
    "print(final_question == original_question)"
   ]
  }
 ],
 "metadata": {
  "kernelspec": {
   "display_name": "llm",
   "language": "python",
   "name": "python3"
  },
  "language_info": {
   "codemirror_mode": {
    "name": "ipython",
    "version": 3
   },
   "file_extension": ".py",
   "mimetype": "text/x-python",
   "name": "python",
   "nbconvert_exporter": "python",
   "pygments_lexer": "ipython3",
   "version": "3.11.10"
  }
 },
 "nbformat": 4,
 "nbformat_minor": 2
}
