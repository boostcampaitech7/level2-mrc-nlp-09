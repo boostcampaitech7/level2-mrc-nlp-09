{
 "cells": [
  {
   "cell_type": "markdown",
   "id": "9f5bcff3",
   "metadata": {},
   "source": [
    "### Augmentation - KorQuAD"
   ]
  },
  {
   "cell_type": "code",
   "execution_count": 1,
   "id": "2609c939-e855-45de-aa38-3f18be2bd1b0",
   "metadata": {},
   "outputs": [
    {
     "name": "stderr",
     "output_type": "stream",
     "text": [
      "/data/ephemeral/home/miniconda3/lib/python3.12/site-packages/tqdm/auto.py:21: TqdmWarning: IProgress not found. Please update jupyter and ipywidgets. See https://ipywidgets.readthedocs.io/en/stable/user_install.html\n",
      "  from .autonotebook import tqdm as notebook_tqdm\n"
     ]
    }
   ],
   "source": [
    "from datasets import load_from_disk, load_dataset, DatasetDict, Dataset\n",
    "import pandas as pd\n",
    "import matplotlib.pyplot as plt\n",
    "import seaborn as sns\n",
    "import os"
   ]
  },
  {
   "cell_type": "code",
   "execution_count": 2,
   "id": "38129c17-86a4-4fdb-9f9b-d450994909d4",
   "metadata": {},
   "outputs": [],
   "source": [
    "\n",
    "# train_dataset 로드하고 데이터프레임으로 변환\n",
    "\n",
    "dataset = load_from_disk(\"../data/raw/train_dataset/\")\n",
    "\n",
    "train = dataset[\"train\"]\n",
    "valid = dataset[\"validation\"]\n",
    "\n",
    "train_df = pd.DataFrame.from_dict(data = train)\n",
    "valid_df = pd.DataFrame.from_dict(data = valid)\n",
    "\n",
    "# KorQuAD/squad_kor_v1 데이터셋 로드하고 데이터프레임 변환\n",
    "\n",
    "korquad_data = load_dataset(\"KorQuAD/squad_kor_v1\")\n",
    "\n",
    "korquad_train = korquad_data[\"train\"]\n",
    "korquad_valid = korquad_data[\"validation\"]\n",
    "\n",
    "korquad_train_df = pd.DataFrame.from_dict(data = korquad_train)\n",
    "korquad_valid_df = pd.DataFrame.from_dict(data = korquad_valid)\n"
   ]
  },
  {
   "cell_type": "code",
   "execution_count": 783,
   "id": "bc057896",
   "metadata": {},
   "outputs": [
    {
     "name": "stdout",
     "output_type": "stream",
     "text": [
      "60407\n",
      "5774\n"
     ]
    }
   ],
   "source": [
    "print(len(korquad_train_df))\n",
    "print(len(korquad_valid_df))\n"
   ]
  },
  {
   "cell_type": "code",
   "execution_count": 3,
   "id": "97c15d01",
   "metadata": {},
   "outputs": [
    {
     "name": "stdout",
     "output_type": "stream",
     "text": [
      "train 데이터 비율: 94.27480916030534\n",
      "valid 데이터 비율: 5.725190839694662\n"
     ]
    }
   ],
   "source": [
    "train_ratio = len(train_df) / (len(train_df) + len(valid_df)) * 100\n",
    "valid_ratio = 100 - train_ratio\n",
    "print(f\"train 데이터 비율: {train_ratio}\")\n",
    "print(f\"valid 데이터 비율: {valid_ratio}\")"
   ]
  },
  {
   "cell_type": "code",
   "execution_count": 4,
   "id": "972987d0",
   "metadata": {},
   "outputs": [
    {
     "name": "stdout",
     "output_type": "stream",
     "text": [
      "korquad_train 데이터 비율: 91.2754415919977\n",
      "korquad_valid 데이터 비율: 8.724558408002295\n"
     ]
    }
   ],
   "source": [
    "korquad_train_ratio = len(korquad_train_df) / (len(korquad_train_df) + len(korquad_valid_df)) * 100\n",
    "korquad_valid_ratio = 100 - korquad_train_ratio\n",
    "print(f\"korquad_train 데이터 비율: {korquad_train_ratio}\")\n",
    "print(f\"korquad_valid 데이터 비율: {korquad_valid_ratio}\")"
   ]
  },
  {
   "cell_type": "code",
   "execution_count": 5,
   "id": "ee5cd0a0-bd00-46fb-b250-530ca13b89aa",
   "metadata": {},
   "outputs": [
    {
     "name": "stdout",
     "output_type": "stream",
     "text": [
      "count    3952.000000\n",
      "mean      920.220648\n",
      "std       356.500514\n",
      "min       512.000000\n",
      "25%       645.000000\n",
      "50%       819.000000\n",
      "75%      1099.250000\n",
      "max      2059.000000\n",
      "Name: context, dtype: float64\n",
      "==================================================\n",
      "count    3952.000000\n",
      "mean       29.322368\n",
      "std         8.727421\n",
      "min         8.000000\n",
      "25%        23.000000\n",
      "50%        29.000000\n",
      "75%        35.000000\n",
      "max        78.000000\n",
      "Name: question, dtype: float64\n"
     ]
    }
   ],
   "source": [
    "print((train_df[\"context\"].apply(len)).describe())\n",
    "print(\"=\"*50) \n",
    "print((train_df[\"question\"].apply(len)).describe())\n"
   ]
  },
  {
   "cell_type": "code",
   "execution_count": 787,
   "id": "349d50f2-cf3f-4c10-9060-419aa8130296",
   "metadata": {},
   "outputs": [
    {
     "name": "stdout",
     "output_type": "stream",
     "text": [
      "count     240.000000\n",
      "mean      916.725000\n",
      "std       360.032122\n",
      "min       517.000000\n",
      "25%       616.750000\n",
      "50%       820.500000\n",
      "75%      1107.250000\n",
      "max      2064.000000\n",
      "Name: context, dtype: float64\n",
      "==================================================\n",
      "count    240.000000\n",
      "mean      29.195833\n",
      "std        8.728301\n",
      "min        9.000000\n",
      "25%       23.000000\n",
      "50%       29.000000\n",
      "75%       35.000000\n",
      "max       59.000000\n",
      "Name: question, dtype: float64\n"
     ]
    }
   ],
   "source": [
    "print((valid_df[\"context\"].apply(len)).describe())\n",
    "print(\"=\"*50) \n",
    "print((valid_df[\"question\"].apply(len)).describe())"
   ]
  },
  {
   "cell_type": "code",
   "execution_count": 788,
   "id": "74cf686d-0770-4ced-a94c-97e228b75228",
   "metadata": {},
   "outputs": [
    {
     "name": "stdout",
     "output_type": "stream",
     "text": [
      "count    60407.000000\n",
      "mean       519.268181\n",
      "std        215.609530\n",
      "min        348.000000\n",
      "25%        395.000000\n",
      "50%        462.000000\n",
      "75%        574.000000\n",
      "max      10012.000000\n",
      "Name: context, dtype: float64\n",
      "==================================================\n",
      "count    60407.000000\n",
      "mean        33.798815\n",
      "std         12.734836\n",
      "min          5.000000\n",
      "25%         25.000000\n",
      "50%         32.000000\n",
      "75%         41.000000\n",
      "max        146.000000\n",
      "Name: question, dtype: float64\n"
     ]
    }
   ],
   "source": [
    "print((korquad_train_df[\"context\"].apply(len)).describe())\n",
    "print(\"=\"*50) \n",
    "print((korquad_train_df[\"question\"].apply(len)).describe())"
   ]
  },
  {
   "cell_type": "code",
   "execution_count": 789,
   "id": "cea4a436",
   "metadata": {},
   "outputs": [
    {
     "data": {
      "text/html": [
       "<div>\n",
       "<style scoped>\n",
       "    .dataframe tbody tr th:only-of-type {\n",
       "        vertical-align: middle;\n",
       "    }\n",
       "\n",
       "    .dataframe tbody tr th {\n",
       "        vertical-align: top;\n",
       "    }\n",
       "\n",
       "    .dataframe thead th {\n",
       "        text-align: right;\n",
       "    }\n",
       "</style>\n",
       "<table border=\"1\" class=\"dataframe\">\n",
       "  <thead>\n",
       "    <tr style=\"text-align: right;\">\n",
       "      <th></th>\n",
       "      <th>id</th>\n",
       "      <th>title</th>\n",
       "      <th>context</th>\n",
       "      <th>question</th>\n",
       "      <th>answers</th>\n",
       "    </tr>\n",
       "  </thead>\n",
       "  <tbody>\n",
       "    <tr>\n",
       "      <th>0</th>\n",
       "      <td>6566495-0-0</td>\n",
       "      <td>파우스트_서곡</td>\n",
       "      <td>1839년 바그너는 괴테의 파우스트을 처음 읽고 그 내용에 마음이 끌려 이를 소재로...</td>\n",
       "      <td>바그너는 괴테의 파우스트를 읽고 무엇을 쓰고자 했는가?</td>\n",
       "      <td>{'text': ['교향곡'], 'answer_start': [54]}</td>\n",
       "    </tr>\n",
       "    <tr>\n",
       "      <th>1</th>\n",
       "      <td>6566495-0-1</td>\n",
       "      <td>파우스트_서곡</td>\n",
       "      <td>1839년 바그너는 괴테의 파우스트을 처음 읽고 그 내용에 마음이 끌려 이를 소재로...</td>\n",
       "      <td>바그너는 교향곡 작곡을 어디까지 쓴 뒤에 중단했는가?</td>\n",
       "      <td>{'text': ['1악장'], 'answer_start': [421]}</td>\n",
       "    </tr>\n",
       "    <tr>\n",
       "      <th>2</th>\n",
       "      <td>6566495-0-2</td>\n",
       "      <td>파우스트_서곡</td>\n",
       "      <td>1839년 바그너는 괴테의 파우스트을 처음 읽고 그 내용에 마음이 끌려 이를 소재로...</td>\n",
       "      <td>바그너가 파우스트 서곡을 쓸 때 어떤 곡의 영향을 받았는가?</td>\n",
       "      <td>{'text': ['베토벤의 교향곡 9번'], 'answer_start': [194]}</td>\n",
       "    </tr>\n",
       "    <tr>\n",
       "      <th>3</th>\n",
       "      <td>6566518-0-0</td>\n",
       "      <td>파우스트_서곡</td>\n",
       "      <td>1839년 바그너는 괴테의 파우스트을 처음 읽고 그 내용에 마음이 끌려 이를 소재로...</td>\n",
       "      <td>1839년 바그너가 교향곡의 소재로 쓰려고 했던 책은?</td>\n",
       "      <td>{'text': ['파우스트'], 'answer_start': [15]}</td>\n",
       "    </tr>\n",
       "    <tr>\n",
       "      <th>4</th>\n",
       "      <td>6566518-0-1</td>\n",
       "      <td>파우스트_서곡</td>\n",
       "      <td>1839년 바그너는 괴테의 파우스트을 처음 읽고 그 내용에 마음이 끌려 이를 소재로...</td>\n",
       "      <td>파우스트 서곡의 라단조 조성이 영향을 받은 베토벤의 곡은?</td>\n",
       "      <td>{'text': ['합창교향곡'], 'answer_start': [354]}</td>\n",
       "    </tr>\n",
       "  </tbody>\n",
       "</table>\n",
       "</div>"
      ],
      "text/plain": [
       "            id    title                                            context  \\\n",
       "0  6566495-0-0  파우스트_서곡  1839년 바그너는 괴테의 파우스트을 처음 읽고 그 내용에 마음이 끌려 이를 소재로...   \n",
       "1  6566495-0-1  파우스트_서곡  1839년 바그너는 괴테의 파우스트을 처음 읽고 그 내용에 마음이 끌려 이를 소재로...   \n",
       "2  6566495-0-2  파우스트_서곡  1839년 바그너는 괴테의 파우스트을 처음 읽고 그 내용에 마음이 끌려 이를 소재로...   \n",
       "3  6566518-0-0  파우스트_서곡  1839년 바그너는 괴테의 파우스트을 처음 읽고 그 내용에 마음이 끌려 이를 소재로...   \n",
       "4  6566518-0-1  파우스트_서곡  1839년 바그너는 괴테의 파우스트을 처음 읽고 그 내용에 마음이 끌려 이를 소재로...   \n",
       "\n",
       "                            question  \\\n",
       "0     바그너는 괴테의 파우스트를 읽고 무엇을 쓰고자 했는가?   \n",
       "1      바그너는 교향곡 작곡을 어디까지 쓴 뒤에 중단했는가?   \n",
       "2  바그너가 파우스트 서곡을 쓸 때 어떤 곡의 영향을 받았는가?   \n",
       "3     1839년 바그너가 교향곡의 소재로 쓰려고 했던 책은?   \n",
       "4   파우스트 서곡의 라단조 조성이 영향을 받은 베토벤의 곡은?   \n",
       "\n",
       "                                            answers  \n",
       "0           {'text': ['교향곡'], 'answer_start': [54]}  \n",
       "1          {'text': ['1악장'], 'answer_start': [421]}  \n",
       "2  {'text': ['베토벤의 교향곡 9번'], 'answer_start': [194]}  \n",
       "3          {'text': ['파우스트'], 'answer_start': [15]}  \n",
       "4        {'text': ['합창교향곡'], 'answer_start': [354]}  "
      ]
     },
     "execution_count": 789,
     "metadata": {},
     "output_type": "execute_result"
    }
   ],
   "source": [
    "korquad_train_df.head()"
   ]
  },
  {
   "cell_type": "code",
   "execution_count": 6,
   "id": "c45a75f4-7c04-40bf-b058-ee8001a0ff48",
   "metadata": {},
   "outputs": [
    {
     "data": {
      "image/png": "[encoded data removed]",
      "text/plain": [
       "<Figure size 1600x600 with 2 Axes>"
      ]
     },
     "metadata": {},
     "output_type": "display_data"
    }
   ],
   "source": [
    "train_df['context_length'] = train_df['context'].apply(len)\n",
    "\n",
    "korquad_train_df['context_length'] = korquad_train_df['context'].apply(len)\n",
    "filtered_df = korquad_train_df.loc[korquad_train_df['context_length'] <= 2000]\n",
    "\n",
    "fig, axes = plt.subplots(1, 2, figsize=(16, 6), sharey=True)\n",
    "\n",
    "sns.histplot(train_df['context_length'], bins=50, binrange=(300, 2000), stat=\"probability\", ax=axes[0])\n",
    "axes[0].set_title('Context Length of train_df')\n",
    "axes[0].set_xlabel('Context Length')\n",
    "axes[0].set_ylabel('Probability')\n",
    "axes[0].set_ylim(0, 0.18) \n",
    "\n",
    "\n",
    "sns.histplot(filtered_df['context_length'], bins=50, binrange=(300, 2000), stat=\"probability\", ax=axes[1])\n",
    "axes[1].set_title('Context Length of korquad_train_df for context length <= 2000')\n",
    "axes[1].set_xlabel('Context Length')\n",
    "axes[1].set_ylabel('Probability')\n",
    "axes[1].set_ylim(0, 0.18)  \n",
    "\n",
    "plt.show()"
   ]
  },
  {
   "cell_type": "code",
   "execution_count": 7,
   "id": "09f9fe46-2b39-4b38-b117-ea78e356b9c2",
   "metadata": {},
   "outputs": [
    {
     "data": {
      "image/png": "[encoded data removed]",
      "text/plain": [
       "<Figure size 1600x600 with 2 Axes>"
      ]
     },
     "metadata": {},
     "output_type": "display_data"
    }
   ],
   "source": [
    "valid_df['context_length'] = valid_df['context'].apply(len)\n",
    "\n",
    "korquad_valid_df['context_length'] = korquad_valid_df['context'].apply(len)\n",
    "filtered_df = korquad_valid_df.loc[korquad_valid_df['context_length'] <= 2000]\n",
    "\n",
    "fig, axes = plt.subplots(1, 2, figsize=(16, 6), sharey=True)\n",
    "\n",
    "sns.histplot(valid_df['context_length'], bins=50, binrange=(300, 2000), stat=\"probability\", ax=axes[0])\n",
    "axes[0].set_title('Context Length of valid_df')\n",
    "axes[0].set_xlabel('Context Length')\n",
    "axes[0].set_ylabel('Probability')\n",
    "axes[0].set_ylim(0, 0.18) \n",
    "\n",
    "\n",
    "sns.histplot(filtered_df['context_length'], bins=50, binrange=(300, 2000), stat=\"probability\", ax=axes[1])\n",
    "axes[1].set_title('Context Length of korquad_valid_df for context length <= 2000')\n",
    "axes[1].set_xlabel('Context Length')\n",
    "axes[1].set_ylabel('Probability')\n",
    "axes[1].set_ylim(0, 0.18)  \n",
    "\n",
    "plt.show()"
   ]
  },
  {
   "cell_type": "code",
   "execution_count": 8,
   "id": "c6286929",
   "metadata": {},
   "outputs": [],
   "source": [
    "# 길이 필터링\n",
    "korquad_train_df = korquad_train_df[korquad_train_df[\"context\"].apply(len).between(500, 2000)]\n",
    "korquad_valid_df = korquad_valid_df[korquad_valid_df[\"context\"].apply(len).between(500, 2000)]\n",
    "\n",
    "# context_length 컬럼 삭제\n",
    "korquad_train_df = korquad_train_df.drop(columns=[\"context_length\"])\n",
    "korquad_valid_df = korquad_valid_df.drop(columns=[\"context_length\"])"
   ]
  },
  {
   "cell_type": "code",
   "execution_count": 9,
   "id": "41886017",
   "metadata": {},
   "outputs": [],
   "source": [
    "def find_matches(df1, df2, context_col = \"context\", question_col= \"question\"):\n",
    "    matching_rows = (df1[context_col].isin(df2[context_col])) & (df1[question_col].isin(df2[question_col]))\n",
    "    \n",
    "    # 일치하는 행들만 추출\n",
    "    common_rows = df1[matching_rows]\n",
    "    \n",
    "    if common_rows.empty:\n",
    "        print(\"context와 question이 모두 겹치는 경우는 없습니다.\")\n",
    "    else:\n",
    "        print(\"context와 question이 모두 겹치는 경우가 있습니다:\")\n",
    "        print(common_rows)"
   ]
  },
  {
   "cell_type": "code",
   "execution_count": 10,
   "id": "4aec1dce",
   "metadata": {},
   "outputs": [
    {
     "name": "stdout",
     "output_type": "stream",
     "text": [
      "context와 question이 모두 겹치는 경우는 없습니다.\n",
      "context와 question이 모두 겹치는 경우는 없습니다.\n",
      "context와 question이 모두 겹치는 경우는 없습니다.\n",
      "context와 question이 모두 겹치는 경우는 없습니다.\n",
      "context와 question이 모두 겹치는 경우는 없습니다.\n",
      "context와 question이 모두 겹치는 경우는 없습니다.\n"
     ]
    }
   ],
   "source": [
    "find_matches(korquad_train_df, valid_df)\n",
    "find_matches(korquad_train_df, train_df)\n",
    "\n",
    "find_matches(korquad_valid_df, valid_df)\n",
    "find_matches(korquad_valid_df, train_df)\n",
    "\n",
    "find_matches(korquad_train_df, korquad_valid_df)\n",
    "find_matches(train_df, valid_df)"
   ]
  },
  {
   "cell_type": "code",
   "execution_count": 11,
   "id": "169e3475",
   "metadata": {},
   "outputs": [],
   "source": [
    "# drop duplicates\n",
    "\n",
    "korquad_train_df['answers_str'] = korquad_train_df['answers'].astype(str)\n",
    "korquad_valid_df['answers_str'] = korquad_valid_df['answers'].astype(str)\n",
    "\n",
    "korquad_train_df = korquad_train_df.drop_duplicates(subset = [\"context\", \"question\", \"answers_str\"], keep = \"first\")\n",
    "korquad_valid_df = korquad_valid_df.drop_duplicates(subset = [\"context\", \"question\", \"answers_str\"], keep = \"first\")\n",
    "\n",
    "# answers_str 컬럼 삭제\n",
    "korquad_train_df = korquad_train_df.drop(columns=['answers_str'])\n",
    "korquad_valid_df = korquad_valid_df.drop(columns=['answers_str'])\n"
   ]
  },
  {
   "cell_type": "code",
   "execution_count": 796,
   "id": "2bb0dc5f-6f48-4855-bc7c-f4030c44c81a",
   "metadata": {},
   "outputs": [
    {
     "data": {
      "text/html": [
       "<div>\n",
       "<style scoped>\n",
       "    .dataframe tbody tr th:only-of-type {\n",
       "        vertical-align: middle;\n",
       "    }\n",
       "\n",
       "    .dataframe tbody tr th {\n",
       "        vertical-align: top;\n",
       "    }\n",
       "\n",
       "    .dataframe thead th {\n",
       "        text-align: right;\n",
       "    }\n",
       "</style>\n",
       "<table border=\"1\" class=\"dataframe\">\n",
       "  <thead>\n",
       "    <tr style=\"text-align: right;\">\n",
       "      <th></th>\n",
       "      <th>title</th>\n",
       "      <th>context</th>\n",
       "      <th>question</th>\n",
       "      <th>id</th>\n",
       "      <th>answers</th>\n",
       "      <th>document_id</th>\n",
       "      <th>__index_level_0__</th>\n",
       "      <th>context_length</th>\n",
       "    </tr>\n",
       "  </thead>\n",
       "  <tbody>\n",
       "    <tr>\n",
       "      <th>295</th>\n",
       "      <td>피아노 협주곡 5번 (베토벤)</td>\n",
       "      <td>자신의 후견자 겸 제자인 루돌프 대공을 위해, 1809년에 프랑스 군대의 포격이 쏟...</td>\n",
       "      <td>피아니스트이자 출판업을 하는 베토벤의 친구는</td>\n",
       "      <td>mrc-1-000614</td>\n",
       "      <td>{'answer_start': [432], 'text': ['요한 B. 크라머']}</td>\n",
       "      <td>7870</td>\n",
       "      <td>396</td>\n",
       "      <td>652</td>\n",
       "    </tr>\n",
       "    <tr>\n",
       "      <th>3170</th>\n",
       "      <td>댜틀로프 고개 사건</td>\n",
       "      <td>1959년 1월 28일에 이고르 댜틀로프를 중심으로 탐사대를 결성한 우랄 국립공과대...</td>\n",
       "      <td>이고르 댜틀로프가 이끄는 모임에서 가장 먼저 빠진 사람은?-</td>\n",
       "      <td>mrc-0-000045</td>\n",
       "      <td>{'answer_start': [165], 'text': ['유리 유딘']}</td>\n",
       "      <td>35158</td>\n",
       "      <td>30</td>\n",
       "      <td>1236</td>\n",
       "    </tr>\n",
       "  </tbody>\n",
       "</table>\n",
       "</div>"
      ],
      "text/plain": [
       "                 title                                            context  \\\n",
       "295   피아노 협주곡 5번 (베토벤)  자신의 후견자 겸 제자인 루돌프 대공을 위해, 1809년에 프랑스 군대의 포격이 쏟...   \n",
       "3170        댜틀로프 고개 사건  1959년 1월 28일에 이고르 댜틀로프를 중심으로 탐사대를 결성한 우랄 국립공과대...   \n",
       "\n",
       "                               question            id  \\\n",
       "295            피아니스트이자 출판업을 하는 베토벤의 친구는  mrc-1-000614   \n",
       "3170  이고르 댜틀로프가 이끄는 모임에서 가장 먼저 빠진 사람은?-  mrc-0-000045   \n",
       "\n",
       "                                             answers  document_id  \\\n",
       "295   {'answer_start': [432], 'text': ['요한 B. 크라머']}         7870   \n",
       "3170      {'answer_start': [165], 'text': ['유리 유딘']}        35158   \n",
       "\n",
       "      __index_level_0__  context_length  \n",
       "295                 396             652  \n",
       "3170                 30            1236  "
      ]
     },
     "execution_count": 796,
     "metadata": {},
     "output_type": "execute_result"
    }
   ],
   "source": [
    "train_df[~train_df[\"question\"].str.endswith(\"?\")]"
   ]
  },
  {
   "cell_type": "code",
   "execution_count": 797,
   "id": "84966c47",
   "metadata": {},
   "outputs": [
    {
     "data": {
      "text/html": [
       "<div>\n",
       "<style scoped>\n",
       "    .dataframe tbody tr th:only-of-type {\n",
       "        vertical-align: middle;\n",
       "    }\n",
       "\n",
       "    .dataframe tbody tr th {\n",
       "        vertical-align: top;\n",
       "    }\n",
       "\n",
       "    .dataframe thead th {\n",
       "        text-align: right;\n",
       "    }\n",
       "</style>\n",
       "<table border=\"1\" class=\"dataframe\">\n",
       "  <thead>\n",
       "    <tr style=\"text-align: right;\">\n",
       "      <th></th>\n",
       "      <th>title</th>\n",
       "      <th>context</th>\n",
       "      <th>question</th>\n",
       "      <th>id</th>\n",
       "      <th>answers</th>\n",
       "      <th>document_id</th>\n",
       "      <th>__index_level_0__</th>\n",
       "      <th>context_length</th>\n",
       "    </tr>\n",
       "  </thead>\n",
       "  <tbody>\n",
       "  </tbody>\n",
       "</table>\n",
       "</div>"
      ],
      "text/plain": [
       "Empty DataFrame\n",
       "Columns: [title, context, question, id, answers, document_id, __index_level_0__, context_length]\n",
       "Index: []"
      ]
     },
     "execution_count": 797,
     "metadata": {},
     "output_type": "execute_result"
    }
   ],
   "source": [
    "valid_df[~valid_df[\"question\"].str.endswith(\"?\")]"
   ]
  },
  {
   "cell_type": "code",
   "execution_count": 12,
   "id": "92a3e0dc",
   "metadata": {},
   "outputs": [
    {
     "name": "stdout",
     "output_type": "stream",
     "text": [
      "물음표로 안끝나는 케이스: 76\n",
      "==================================================\n",
      "흥국생명시절 김연경 자신의 한 경기 최다 득점은 몇점인가\n",
      "\n",
      "==================================================\n",
      "\n",
      "4.18 기념 마라톤이 끝나는 장소는 어디인가\n",
      "\n",
      "==================================================\n",
      "\n",
      "지방에서 관찰사와 수령의 말단 행정은 누가 관리하였는가\n",
      "\n",
      "==================================================\n",
      "\n",
      "옹정제는 예수회 선교사들을 어디로 추방하였습니까/\n",
      "\n",
      "==================================================\n",
      "\n",
      "최강창민의 영화 데뷔작은 무엇인가\n",
      "\n",
      "==================================================\n",
      "\n",
      "급진적인 사상운동이 제대로 제어되지 못할 경우 악영향을 끼치는 잘 보여주는 사례로 중국에서 일어난 사건은\n",
      "\n",
      "==================================================\n",
      "\n",
      "급진적 공산주의 사상의 대표로 세계적으로 제국주의 문제와 노동문제에 관심을 보이게 된 것은\n",
      "\n",
      "==================================================\n",
      "\n",
      "17대 총선에서 추미애가 민주당에서 맡은 역할은 무엇인가\n",
      "\n",
      "==================================================\n",
      "\n",
      "자동차의 연료가 소모되면서 발생하는 오염물질 두가지를 써보시오.\n",
      "\n",
      "==================================================\n",
      "\n",
      "5000달러 배상금을 1월 10일까지 청구하지 않으면 어떤 공격을 받을 것이라고 했나\n",
      "\n",
      "==================================================\n",
      "\n",
      "The Boys를 작곡, 편곡한 프로듀서는 누구인가\n",
      "\n",
      "==================================================\n",
      "\n",
      "기명후보로 등록되어 유권자의 표를 얻은 후보 중, 10만 표 이상을 득표한 후보의 이름은? (한 단어로 쓰시오.)\n",
      "\n",
      "==================================================\n",
      "\n",
      "2017년 엘 제네리코가 WWE에게 해고당하지 않기 위해 케빈 오웬스와 태그팀으로 출전해 승리한 경기는\n",
      "\n",
      "==================================================\n",
      "\n",
      "흑인학과 여성학은 단지 분리에만 있는 것 뿐만 아니라 무엇의 지속에도 있다\n",
      "\n",
      "==================================================\n",
      "\n",
      "러시아가 시리아, 이란, 이라크와 전략적으로 동맹을 맺으려고 한 것은 어떤 나라에 대항하기 위해서였는가\n",
      "\n",
      "==================================================\n",
      "\n",
      "시리아 내전에서 반군과 서구 연합군들은 누구의 퇴진을 요구하였는가\n",
      "\n",
      "==================================================\n",
      "\n",
      "시리아 내전은 2011년 초에 누구에 대항하여 시작되었는가\n",
      "\n",
      "==================================================\n",
      "\n",
      "1979년 이란 혁명 이후 유일하게 지속된 이란의 동맹국은 어디인가\n",
      "\n",
      "==================================================\n",
      "\n",
      "이란은 이라크에서 미국, 이라크 정부와 연합해 누구와 맟서 싸우는가\n",
      "\n",
      "==================================================\n",
      "\n",
      "래드클리프 야드와 가까운 곳에 있는 두 가지 건물, 시설을 말해보시오.\n",
      "\n",
      "==================================================\n",
      "\n",
      "11월 27일에 오스트리아식 불가분성을 교서를 발표한 총리는\n",
      "\n",
      "==================================================\n",
      "\n",
      "\"You and I\"와 \"Marry the night\"의 비디오는 어떤 평가를 받았는가\n",
      "\n",
      "==================================================\n",
      "\n",
      "프로게이머 조용호가 2001년에 입단한 곳은\n",
      "\n",
      "==================================================\n",
      "\n",
      "초기 로큰롤 순위에 있던 가수들을 모두 서술하시오\n",
      "\n",
      "==================================================\n",
      "\n",
      "로큰롤의 하위 장르로 로큰롤과 영가적 분위기의 음악, 팝 음악이 결합한 장르는\n",
      "\n",
      "==================================================\n",
      "\n",
      "차원이 낮은 1의 언어는 무엇인가\n",
      "\n",
      "==================================================\n",
      "\n",
      "일본 기상청이 이와테 현의 보고를 무시한 이유는 일본 기상청에서는 쓰나미를 예측할 때 '무엇'을 사용한다는 규정이 없기 때문이다.\n",
      "\n",
      "==================================================\n",
      "\n",
      "세월호 선장에게 퇴선 명령을 받은 조타수는 세월호의 어느 쪽 부분으로 퇴선했다고 진술하였는가\n",
      "\n",
      "==================================================\n",
      "\n",
      "라이너스 윌슨 달링은 몇살에 고아가 되었는가\n",
      "\n",
      "==================================================\n",
      "\n",
      "폴링의 할아버지는 제철 공장에서 무엇으로 근무했는가\n",
      "\n",
      "==================================================\n",
      "\n",
      "폴링은 벤젠의 구조를 무엇에 기초하여 설명하였는가\n",
      "\n",
      "==================================================\n",
      "\n",
      "RB520 도시형 직행형 및 자가용형은 언제 출시되었나\n",
      "\n",
      "==================================================\n",
      "\n",
      "출시초기 후면부 엔진보닛과 그 우측에는 무엇이 있었나\n",
      "\n",
      "==================================================\n",
      "\n",
      "RB520출시 6달후 무엇이 출시되었나\n",
      "\n",
      "==================================================\n",
      "\n",
      "RB520L이 어디서 처음 도입되었는가\n",
      "\n",
      "==================================================\n",
      "\n",
      "프론트 엔진버스에 무엇이 탑재되있었나\n",
      "\n",
      "==================================================\n",
      "\n",
      "1978년에 무엇이 출시되었나\n",
      "\n",
      "==================================================\n",
      "\n",
      "납작이라고 불리는 열차를 생산한 회사를 모두 쓰시오.\n",
      "\n",
      "==================================================\n",
      "\n",
      "베어스빌 레코드에서 라자러스가 두 장의 앨범을 내는 동안 앨범의 프로듀싱을 맡았던 프로듀서 두 명의 이름을 쓰시오.\n",
      "\n",
      "==================================================\n",
      "\n",
      "스콜라 신학자인 롬바르드는 신앙을 몇가지 단계로 구분하였는가\n",
      "\n",
      "==================================================\n",
      "\n",
      "갤럭시 노트7의 폭발사고는 언제 처음 일어났는가\n",
      "\n",
      "==================================================\n",
      "\n",
      "안드로이드버전은 몇으로 높아졌나\n",
      "\n",
      "==================================================\n",
      "\n",
      "무엇으로인해 AF속도가 빨라졌는가\n",
      "\n",
      "==================================================\n",
      "\n",
      "갤럭시 노트7에는 아이소셀S5K4E6센서의 어떤 카메라를 탑재했나\n",
      "\n",
      "==================================================\n",
      "\n",
      "s펜은 몇mm으로 경량화 되었는가\n",
      "\n",
      "==================================================\n",
      "\n",
      "어떤기능이 업그레이드 됬는가\n",
      "\n",
      "==================================================\n",
      "\n",
      "오스트레일리아 까치의 모든 아종의 머리는 무슨색인가\n",
      "\n",
      "==================================================\n",
      "\n",
      "2009년 최초로 장 오가이노이드 시스템을 확립한 사람은\n",
      "\n",
      "==================================================\n",
      "\n",
      "2010년에는 가수 고 김현식의 추모 영화로 기획된 영화는\n",
      "\n",
      "==================================================\n",
      "\n",
      "국어능력인증시험 중 듣기평가의 총 문항수\n",
      "\n",
      "==================================================\n",
      "\n",
      "표면상에서 모든 점의 위치는 어떠한 좌표로 기술될 수 있는가?(2가지)\n",
      "\n",
      "==================================================\n",
      "\n",
      "블랙홀들을 서로 구분할 수 있는 변수 중 두가지를 적으세요.\n",
      "\n",
      "==================================================\n",
      "\n",
      "양자중력 이론의 유망한 후보 중 두가지를 적으시오.\n",
      "\n",
      "==================================================\n",
      "\n",
      "신체의 움직임과 공간이 결부되어 나선적 입체감을 느끼게 하는 것은 무엇인가\n",
      "\n",
      "==================================================\n",
      "\n",
      "검찰조사를 받은 배민수는 몇년형을 구형받았는가\n",
      "\n",
      "==================================================\n",
      "\n",
      "병 속에서 발견된 원고는 누구의 관심을 끌었는가\n",
      "\n",
      "==================================================\n",
      "\n",
      "포는 초월주의의 추종자들을 무엇이라고 불렀는가\n",
      "\n",
      "==================================================\n",
      "\n",
      "찰스 가와 보일스턴 가의 교차지점이 새롭게 지정된 것\n",
      "\n",
      "==================================================\n",
      "\n",
      "조각상 제막식은 언제 거행되었는가\n",
      "\n",
      "==================================================\n",
      "\n",
      "1976이래로 포의 무덤참배를 모두 지켜보았다고 하는 사람은 누구인가\n",
      "\n",
      "==================================================\n",
      "\n",
      "90년대 대한민국의 남자 단거리 스피드 스케이팅을 주도하던 선수\n",
      "\n",
      "==================================================\n",
      "\n",
      "sk와이번스와 여러차례 트레이드가 무산된 이후에 2012년에 트레이드가 체결되었는데 누구와 누구의 트레이드 였는가\n",
      "\n",
      "==================================================\n",
      "\n",
      "2008년 7월에 히어로즈의 메인 스폰서가 스폰서 계약을 해지하면서 자금난을 겪게 되었다. 그때의 메인 스폰서는 어느 기업이었는가\n",
      "\n",
      "==================================================\n",
      "\n",
      "영국의 역사학자 피터그린, 영국의 저자 애드리언 골드워시 등 비평가들이 폴리비오스를 비판적으로 평가하는 공통적인 이유를 다섯글자로 쓰시오\n",
      "\n",
      "==================================================\n",
      "\n",
      "제28회 동계 유니버시아드가 카자흐스탄의 어느 도시에서 열렸는가\n",
      "\n",
      "==================================================\n",
      "\n",
      "2017년 1월 전국 동계체전에서 김아랑이 노도희와 함께 넘어지며 얼굴이 찢기는 부상을 입은 코스는 몇 미터인가\n",
      "\n",
      "==================================================\n",
      "\n",
      "김아랑은 2017-2018 국가대표 선발전에서 종합 몇 위를 하였는가\n",
      "\n",
      "==================================================\n",
      "\n",
      "2018 평창올림픽 쇼트트랙 1000미터에서 김아랑은 몇 위를 하였는가\n",
      "\n",
      "==================================================\n",
      "\n",
      "2018 몬트리올 세계 선수권 대회에서 김아랑은 몇 위를 하였는가\n",
      "\n",
      "==================================================\n",
      "\n",
      "2018년 5월 18~20일에 개최되는 트와이스 콘서트의 좌석수는? (스탠딩포함)\n",
      "\n",
      "==================================================\n",
      "\n",
      "허지웅이 선동영화라고 한 영화는\n",
      "\n",
      "==================================================\n",
      "\n",
      "3~5M정도의 크기로 크기에 비례하여 힘도 강한 부족의 우두머리를 가리키는 이름은\n",
      "\n",
      "==================================================\n",
      "\n",
      "오크들이 날때부터 가지고 태어나는 것은\n",
      "\n",
      "==================================================\n",
      "\n",
      "가상현실 시스템의 예를 한 가지만 쓰시오.\n",
      "\n",
      "==================================================\n",
      "\n",
      "방송형자동종속감시 신호가 포함하고 있는 정보 중 두가지를 말하시오.\n",
      "\n",
      "==================================================\n",
      "\n",
      "카디널스는 혼즈비를 누구와 트레이드 했는가?(총 두명)\n",
      "\n",
      "==================================================\n",
      "\n"
     ]
    }
   ],
   "source": [
    "no_question_mark = korquad_train_df[~korquad_train_df[\"question\"].str.endswith(\"?\")]\n",
    "print(f\"물음표로 안끝나는 케이스: {len(no_question_mark)}\")\n",
    "print(\"=\"*50) \n",
    "for index, row in no_question_mark.iterrows():\n",
    "    print(row[\"question\"]) \n",
    "    print(\"\\n\" + \"=\"*50 + \"\\n\") "
   ]
  },
  {
   "cell_type": "code",
   "execution_count": 13,
   "id": "bdd267e7",
   "metadata": {},
   "outputs": [],
   "source": [
    "import re\n",
    "for index, row in no_question_mark.iterrows():\n",
    "    last_char = row[\"question\"][-1]\n",
    "    if re.match(\"[가-힣]\", last_char):\n",
    "        \n",
    "        korquad_train_df.at[index, \"question\"] += \"?\""
   ]
  },
  {
   "cell_type": "code",
   "execution_count": 14,
   "id": "10b798c0",
   "metadata": {},
   "outputs": [
    {
     "name": "stdout",
     "output_type": "stream",
     "text": [
      "14\n"
     ]
    }
   ],
   "source": [
    "# 물음표 붙인 후\n",
    "\n",
    "no_question_mark = korquad_train_df[~korquad_train_df[\"question\"].str.endswith(\"?\")]\n",
    "print(len(no_question_mark))"
   ]
  },
  {
   "cell_type": "code",
   "execution_count": 15,
   "id": "840efa0f",
   "metadata": {},
   "outputs": [
    {
     "data": {
      "text/plain": [
       "23767"
      ]
     },
     "execution_count": 15,
     "metadata": {},
     "output_type": "execute_result"
    }
   ],
   "source": [
    "len(korquad_train_df)"
   ]
  },
  {
   "cell_type": "code",
   "execution_count": 802,
   "id": "cdf0e67a",
   "metadata": {},
   "outputs": [
    {
     "name": "stdout",
     "output_type": "stream",
     "text": [
      "물음표로 안끝나는 케이스: 0\n",
      "==================================================\n"
     ]
    }
   ],
   "source": [
    "## korquad_valid_df\n",
    "no_question_mark = korquad_valid_df[~korquad_valid_df[\"question\"].str.endswith(\"?\")]\n",
    "print(f\"물음표로 안끝나는 케이스: {len(no_question_mark)}\")\n",
    "print(\"=\"*50) \n",
    "for index, row in no_question_mark.iterrows():\n",
    "    print(row[\"question\"]) \n",
    "    print(\"\\n\" + \"=\"*50 + \"\\n\") "
   ]
  },
  {
   "cell_type": "code",
   "execution_count": 803,
   "id": "52b83957",
   "metadata": {},
   "outputs": [
    {
     "data": {
      "text/html": [
       "<div>\n",
       "<style scoped>\n",
       "    .dataframe tbody tr th:only-of-type {\n",
       "        vertical-align: middle;\n",
       "    }\n",
       "\n",
       "    .dataframe tbody tr th {\n",
       "        vertical-align: top;\n",
       "    }\n",
       "\n",
       "    .dataframe thead th {\n",
       "        text-align: right;\n",
       "    }\n",
       "</style>\n",
       "<table border=\"1\" class=\"dataframe\">\n",
       "  <thead>\n",
       "    <tr style=\"text-align: right;\">\n",
       "      <th></th>\n",
       "      <th>id</th>\n",
       "      <th>title</th>\n",
       "      <th>context</th>\n",
       "      <th>question</th>\n",
       "      <th>answers</th>\n",
       "    </tr>\n",
       "  </thead>\n",
       "  <tbody>\n",
       "    <tr>\n",
       "      <th>0</th>\n",
       "      <td>6566495-0-0</td>\n",
       "      <td>파우스트_서곡</td>\n",
       "      <td>1839년 바그너는 괴테의 파우스트을 처음 읽고 그 내용에 마음이 끌려 이를 소재로...</td>\n",
       "      <td>바그너는 괴테의 파우스트를 읽고 무엇을 쓰고자 했는가?</td>\n",
       "      <td>{'text': ['교향곡'], 'answer_start': [54]}</td>\n",
       "    </tr>\n",
       "    <tr>\n",
       "      <th>1</th>\n",
       "      <td>6566495-0-1</td>\n",
       "      <td>파우스트_서곡</td>\n",
       "      <td>1839년 바그너는 괴테의 파우스트을 처음 읽고 그 내용에 마음이 끌려 이를 소재로...</td>\n",
       "      <td>바그너는 교향곡 작곡을 어디까지 쓴 뒤에 중단했는가?</td>\n",
       "      <td>{'text': ['1악장'], 'answer_start': [421]}</td>\n",
       "    </tr>\n",
       "    <tr>\n",
       "      <th>2</th>\n",
       "      <td>6566495-0-2</td>\n",
       "      <td>파우스트_서곡</td>\n",
       "      <td>1839년 바그너는 괴테의 파우스트을 처음 읽고 그 내용에 마음이 끌려 이를 소재로...</td>\n",
       "      <td>바그너가 파우스트 서곡을 쓸 때 어떤 곡의 영향을 받았는가?</td>\n",
       "      <td>{'text': ['베토벤의 교향곡 9번'], 'answer_start': [194]}</td>\n",
       "    </tr>\n",
       "    <tr>\n",
       "      <th>3</th>\n",
       "      <td>6566518-0-0</td>\n",
       "      <td>파우스트_서곡</td>\n",
       "      <td>1839년 바그너는 괴테의 파우스트을 처음 읽고 그 내용에 마음이 끌려 이를 소재로...</td>\n",
       "      <td>1839년 바그너가 교향곡의 소재로 쓰려고 했던 책은?</td>\n",
       "      <td>{'text': ['파우스트'], 'answer_start': [15]}</td>\n",
       "    </tr>\n",
       "    <tr>\n",
       "      <th>4</th>\n",
       "      <td>6566518-0-1</td>\n",
       "      <td>파우스트_서곡</td>\n",
       "      <td>1839년 바그너는 괴테의 파우스트을 처음 읽고 그 내용에 마음이 끌려 이를 소재로...</td>\n",
       "      <td>파우스트 서곡의 라단조 조성이 영향을 받은 베토벤의 곡은?</td>\n",
       "      <td>{'text': ['합창교향곡'], 'answer_start': [354]}</td>\n",
       "    </tr>\n",
       "  </tbody>\n",
       "</table>\n",
       "</div>"
      ],
      "text/plain": [
       "            id    title                                            context  \\\n",
       "0  6566495-0-0  파우스트_서곡  1839년 바그너는 괴테의 파우스트을 처음 읽고 그 내용에 마음이 끌려 이를 소재로...   \n",
       "1  6566495-0-1  파우스트_서곡  1839년 바그너는 괴테의 파우스트을 처음 읽고 그 내용에 마음이 끌려 이를 소재로...   \n",
       "2  6566495-0-2  파우스트_서곡  1839년 바그너는 괴테의 파우스트을 처음 읽고 그 내용에 마음이 끌려 이를 소재로...   \n",
       "3  6566518-0-0  파우스트_서곡  1839년 바그너는 괴테의 파우스트을 처음 읽고 그 내용에 마음이 끌려 이를 소재로...   \n",
       "4  6566518-0-1  파우스트_서곡  1839년 바그너는 괴테의 파우스트을 처음 읽고 그 내용에 마음이 끌려 이를 소재로...   \n",
       "\n",
       "                            question  \\\n",
       "0     바그너는 괴테의 파우스트를 읽고 무엇을 쓰고자 했는가?   \n",
       "1      바그너는 교향곡 작곡을 어디까지 쓴 뒤에 중단했는가?   \n",
       "2  바그너가 파우스트 서곡을 쓸 때 어떤 곡의 영향을 받았는가?   \n",
       "3     1839년 바그너가 교향곡의 소재로 쓰려고 했던 책은?   \n",
       "4   파우스트 서곡의 라단조 조성이 영향을 받은 베토벤의 곡은?   \n",
       "\n",
       "                                            answers  \n",
       "0           {'text': ['교향곡'], 'answer_start': [54]}  \n",
       "1          {'text': ['1악장'], 'answer_start': [421]}  \n",
       "2  {'text': ['베토벤의 교향곡 9번'], 'answer_start': [194]}  \n",
       "3          {'text': ['파우스트'], 'answer_start': [15]}  \n",
       "4        {'text': ['합창교향곡'], 'answer_start': [354]}  "
      ]
     },
     "execution_count": 803,
     "metadata": {},
     "output_type": "execute_result"
    }
   ],
   "source": [
    "korquad_train_df.head()"
   ]
  },
  {
   "cell_type": "code",
   "execution_count": 16,
   "id": "8227bd77",
   "metadata": {},
   "outputs": [
    {
     "name": "stdout",
     "output_type": "stream",
     "text": [
      "(주)대구시민프로축구단이 24일간 1차 시민주 공모를 실시해 확보한 자금은?\n",
      "\n",
      "==================================================\n",
      "\n",
      "(주)인터내셔널이스포츠그룹이 이네이쳐 탑 팀을 인수해 창단된 팀의 이름은?\n",
      "\n",
      "==================================================\n",
      "\n",
      "‘쿨란의 사냥개’라는 뜻으로 붙여진 세탄타의 이름은?\n",
      "\n",
      "==================================================\n",
      "\n",
      "《고 에다》에서 바프스루드니르가 말하기를 39절에 나오는 표현 중 라그나로크를 가리키는 표현은 무엇인가?\n",
      "\n",
      "==================================================\n",
      "\n",
      "《고 에다》에서 바프스루드니르가 말하기를 에서 \"타 에르 르겐 데위야\" 라는 문장이 나오는 절은 몇 절인가?\n",
      "\n",
      "==================================================\n",
      "\n",
      "〈착한 건 나쁜 게 아니야 pt.1〉에서 권석정은 길게 끄는 부분이 어떤 가수의 피아노를 연상시킨다고 말했는가?\n",
      "\n",
      "==================================================\n",
      "\n",
      "《어드벤처 타임》이 처음 시작했을 때의 영상 구성은?\n",
      "\n",
      "==================================================\n",
      "\n",
      "《어드벤처 타임》정식 시리즈로 제작된 첫 에피소드는?\n",
      "\n",
      "==================================================\n",
      "\n",
      "〈What Have you Done〉의 제작 번호는?\n",
      "\n",
      "==================================================\n",
      "\n"
     ]
    }
   ],
   "source": [
    "unwanted_rows = korquad_train_df[~korquad_train_df[\"question\"].str.match(r'^[가-힣a-zA-Z0-9?.\\s\\'\\\"<>]', na=False)]\n",
    "\n",
    "for index, row in unwanted_rows.iterrows():\n",
    "    print(row[\"question\"]) \n",
    "    print(\"\\n\" + \"=\"*50 + \"\\n\") "
   ]
  },
  {
   "cell_type": "code",
   "execution_count": 17,
   "id": "00537f48",
   "metadata": {},
   "outputs": [
    {
     "data": {
      "text/plain": [
       "0"
      ]
     },
     "execution_count": 17,
     "metadata": {},
     "output_type": "execute_result"
    }
   ],
   "source": [
    "unwanted_rows = korquad_valid_df[~korquad_valid_df[\"question\"].str.match(r'^[가-힣a-zA-Z0-9?.\\s\\'\\\"<>]', na=False)]\n",
    "len(unwanted_rows)\n"
   ]
  },
  {
   "cell_type": "code",
   "execution_count": 18,
   "id": "5a22e3ca",
   "metadata": {},
   "outputs": [
    {
     "name": "stderr",
     "output_type": "stream",
     "text": [
      "Saving the dataset (1/1 shards): 100%|██████████| 23767/23767 [00:00<00:00, 429272.22 examples/s]\n",
      "Saving the dataset (1/1 shards): 100%|██████████| 2266/2266 [00:00<00:00, 255005.04 examples/s]\n"
     ]
    }
   ],
   "source": [
    "def save_df_as_datasetdict(train_df, valid_df, save_path=\"../data/external/korquad\"):\n",
    "    train = Dataset.from_pandas(train_df)\n",
    "    validation = Dataset.from_pandas(valid_df)\n",
    "    dataset = DatasetDict({\"train\": train, \"validation\": validation})\n",
    "    dataset.save_to_disk(save_path)\n",
    "    os.system(f\"sudo chmod -R 777 {save_path}\")\n",
    "    \n",
    "save_df_as_datasetdict(korquad_train_df, korquad_valid_df)"
   ]
  },
  {
   "cell_type": "code",
   "execution_count": 19,
   "id": "83a98ab6",
   "metadata": {},
   "outputs": [
    {
     "name": "stdout",
     "output_type": "stream",
     "text": [
      "23767\n",
      "2266\n"
     ]
    }
   ],
   "source": [
    "print(len(korquad_train_df))\n",
    "print(len(korquad_valid_df))"
   ]
  }
 ],
 "metadata": {
  "kernelspec": {
   "display_name": "base",
   "language": "python",
   "name": "python3"
  },
  "language_info": {
   "codemirror_mode": {
    "name": "ipython",
    "version": 3
   },
   "file_extension": ".py",
   "mimetype": "text/x-python",
   "name": "python",
   "nbconvert_exporter": "python",
   "pygments_lexer": "ipython3",
   "version": "3.12.2"
  }
 },
 "nbformat": 4,
 "nbformat_minor": 5
}
