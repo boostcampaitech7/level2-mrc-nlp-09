{
 "cells": [
  {
   "cell_type": "markdown",
   "metadata": {},
   "source": [
    "### Augmentation - Final"
   ]
  },
  {
   "cell_type": "code",
   "execution_count": 1,
   "metadata": {},
   "outputs": [
    {
     "name": "stderr",
     "output_type": "stream",
     "text": [
      "/data/ephemeral/home/miniconda3/lib/python3.12/site-packages/tqdm/auto.py:21: TqdmWarning: IProgress not found. Please update jupyter and ipywidgets. See https://ipywidgets.readthedocs.io/en/stable/user_install.html\n",
      "  from .autonotebook import tqdm as notebook_tqdm\n"
     ]
    }
   ],
   "source": [
    "from datasets import load_from_disk, Dataset, DatasetDict\n",
    "from sklearn.utils import shuffle\n",
    "import pandas as pd\n",
    "import shutil\n",
    "import os\n",
    "\n",
    "# 데이터 로드 및 비율 설정\n",
    "dataset = load_from_disk(\"../data/raw/train_dataset\")\n",
    "train_df = dataset[\"train\"].to_pandas()\n",
    "valid_df = dataset[\"validation\"].to_pandas()\n",
    "train_ratio = len(train_df) / (len(train_df) + len(valid_df))\n",
    "valid_ratio = 1 - train_ratio\n",
    "\n",
    "def combine_datasets(df1, df2):\n",
    "    combined_df = pd.concat([df1, df2], axis=0).reset_index(drop=True)\n",
    "    return combined_df\n",
    "\n",
    "def df_to_datasetdict(train_df, valid_df):\n",
    "    train = Dataset.from_pandas(train_df)\n",
    "    validation = Dataset.from_pandas(valid_df)\n",
    "    return DatasetDict({\"train\": train, \"validation\": validation})\n",
    "\n",
    "def save_dataset(dataset, save_path_base=\"../data/preprocessed\"):\n",
    "    counter = 1\n",
    "    save_path = f\"{save_path_base}/data{counter}\"\n",
    "    \n",
    "    # 이미 존재하는 폴더가 있을 경우, 숫자를 증가시켜 새로운 폴더 이름 찾기\n",
    "    while os.path.exists(save_path):\n",
    "        counter += 1\n",
    "        save_path = f\"{save_path_base}/data{counter}\"\n",
    "    \n",
    "    # 데이터셋 저장 및 접근 권한 설정\n",
    "    dataset.save_to_disk(save_path)\n",
    "    os.system(f\"sudo chmod -R 777 {save_path}\")\n",
    "    print(f\"Dataset saved at: {save_path}\")\n",
    "\n",
    "def shuffle_df(df, random_state=42):\n",
    "    return shuffle(df, random_state=random_state).reset_index(drop=True)\n",
    "\n",
    "def sample_df(df, sample_size, random_state=42):\n",
    "    return df.sample(n=sample_size, random_state=random_state).reset_index(drop=True)\n",
    "\n",
    "def augmentation(external_datasets, sample_size=None, sampling_method=\"separate\"):\n",
    "    # 여러 외부 DatasetDict 로드 및 결합\n",
    "    combined_train, combined_valid = load_and_combine_external_datasets(external_datasets)\n",
    "\n",
    "    # sample_size가 None인 경우: 결합된 데이터프레임을 기존 데이터셋에 추가\n",
    "    if sample_size is None:\n",
    "        return handle_no_sample_size(combined_train, combined_valid, sampling_method)\n",
    "\n",
    "    # sample_size가 지정된 경우: 비율에 맞춰 샘플링 및 결합\n",
    "    return handle_sample_size(combined_train, combined_valid, sample_size, sampling_method)\n",
    "\n",
    "def load_and_combine_external_datasets(dataset_paths):\n",
    "    train_list = []\n",
    "    valid_list = []\n",
    "\n",
    "    for dataset_path in dataset_paths:\n",
    "        # DatasetDict를 로드하고, train과 validation으로 분리\n",
    "        external_dataset = load_from_disk(dataset_path)\n",
    "        train = external_dataset[\"train\"].to_pandas()\n",
    "        valid = external_dataset[\"validation\"].to_pandas()\n",
    "        \n",
    "        train_list.append(train)\n",
    "        valid_list.append(valid)\n",
    "        \n",
    "        # 불러온 원본 데이터를 삭제\n",
    "        # shutil.rmtree(dataset_path)\n",
    "    \n",
    "    # train과 valid 각각 결합\n",
    "    combined_train = pd.concat(train_list, axis=0).reset_index(drop=True)\n",
    "    combined_valid = pd.concat(valid_list, axis=0).reset_index(drop=True)\n",
    "    return combined_train, combined_valid\n",
    "\n",
    "def handle_no_sample_size(combined_train, combined_valid, sampling_method):\n",
    "    # sample_size: None\n",
    "    if sampling_method == \"separate\":\n",
    "        # separate 방식: train에 combined_train, valid에 combined_valid 결합\n",
    "        augmented_train_df = combine_datasets(train_df, combined_train)\n",
    "        augmented_valid_df = combine_datasets(valid_df, combined_valid)\n",
    "    elif sampling_method == \"combine\":\n",
    "        # combined 방식: train과 valid를 합쳐 기존 train에 결합, valid는 그대로 유지\n",
    "        combined_external = combine_datasets(combined_train, combined_valid)\n",
    "        augmented_train_df = combine_datasets(train_df, combined_external)\n",
    "        augmented_valid_df = valid_df\n",
    "    \n",
    "    return save_and_return_dataset(augmented_train_df, augmented_valid_df)\n",
    "\n",
    "def handle_sample_size(combined_train, combined_valid, sample_size, sampling_method):\n",
    "    # sample_size: 지정\n",
    "    train_sample_size = round(sample_size * train_ratio)\n",
    "    valid_sample_size = round(sample_size * valid_ratio)\n",
    "    \n",
    "    if sampling_method == \"separate\":\n",
    "        # separate 방식: 각각 샘플링 후 기존 데이터셋에 결합\n",
    "        sampled_train = sample_df(combined_train, train_sample_size)\n",
    "        sampled_valid = sample_df(combined_valid, valid_sample_size)\n",
    "        \n",
    "        augmented_train_df = combine_datasets(train_df, sampled_train)\n",
    "        augmented_valid_df = combine_datasets(valid_df, sampled_valid)\n",
    "        \n",
    "    elif sampling_method == \"combine\":\n",
    "        # combined 방식: 결합 후 단일 샘플링하여 기존 train에 결합, valid는 유지\n",
    "        combined_external = combine_datasets(combined_train, combined_valid)\n",
    "        combined_sampled = sample_df(combined_external, sample_size)\n",
    "        augmented_train_df = combine_datasets(train_df, combined_sampled)\n",
    "        augmented_valid_df = valid_df\n",
    "\n",
    "    return save_and_return_dataset(augmented_train_df, augmented_valid_df)\n",
    "\n",
    "def save_and_return_dataset(augmented_train_df, augmented_valid_df):\n",
    "    # 데이터셋 섞기\n",
    "    augmented_train_df = shuffle_df(augmented_train_df)\n",
    "    augmented_valid_df = shuffle_df(augmented_valid_df)\n",
    "\n",
    "    # DatasetDict로 변환 및 저장\n",
    "    augmented_dataset = df_to_datasetdict(augmented_train_df, augmented_valid_df)\n",
    "    save_dataset(augmented_dataset)\n",
    "    return augmented_dataset\n"
   ]
  },
  {
   "cell_type": "code",
   "execution_count": 4,
   "metadata": {},
   "outputs": [
    {
     "name": "stderr",
     "output_type": "stream",
     "text": [
      "Saving the dataset (1/1 shards): 100%|██████████| 29985/29985 [00:00<00:00, 416164.65 examples/s]\n",
      "Saving the dataset (1/1 shards): 100%|██████████| 240/240 [00:00<00:00, 50536.32 examples/s]"
     ]
    },
    {
     "name": "stdout",
     "output_type": "stream",
     "text": [
      "Dataset saved at: ../data/preprocessed/data1\n"
     ]
    },
    {
     "name": "stderr",
     "output_type": "stream",
     "text": [
      "\n"
     ]
    },
    {
     "data": {
      "text/plain": [
       "DatasetDict({\n",
       "    train: Dataset({\n",
       "        features: ['title', 'context', 'question', 'id', 'answers', 'document_id', '__index_level_0__'],\n",
       "        num_rows: 29985\n",
       "    })\n",
       "    validation: Dataset({\n",
       "        features: ['title', 'context', 'question', 'id', 'answers', 'document_id', '__index_level_0__'],\n",
       "        num_rows: 240\n",
       "    })\n",
       "})"
      ]
     },
     "execution_count": 4,
     "metadata": {},
     "output_type": "execute_result"
    }
   ],
   "source": [
    "augmentation(\n",
    "    external_datasets=[\n",
    "        \"../data/external/korquad\",\n",
    "#        \"../data/external/ko_wiki\"\n",
    "    ],\n",
    "#    sample_size=30000,\n",
    "    sampling_method=\"combine\"\n",
    ")"
   ]
  }
 ],
 "metadata": {
  "kernelspec": {
   "display_name": "base",
   "language": "python",
   "name": "python3"
  },
  "language_info": {
   "codemirror_mode": {
    "name": "ipython",
    "version": 3
   },
   "file_extension": ".py",
   "mimetype": "text/x-python",
   "name": "python",
   "nbconvert_exporter": "python",
   "pygments_lexer": "ipython3",
   "version": "3.12.2"
  }
 },
 "nbformat": 4,
 "nbformat_minor": 2
}
